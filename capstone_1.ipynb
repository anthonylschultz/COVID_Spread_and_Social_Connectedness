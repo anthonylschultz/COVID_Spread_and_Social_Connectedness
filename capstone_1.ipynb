{
 "cells": [
  {
   "cell_type": "code",
   "execution_count": 33,
   "metadata": {},
   "outputs": [],
   "source": [
    "import pandas as pd\n",
    "pd.set_option('display.max_rows', 999)\n",
    "import numpy as np\n",
    "import matplotlib.pyplot as plt\n",
    "import seaborn as sns"
   ]
  },
  {
   "cell_type": "markdown",
   "metadata": {},
   "source": [
    "# **Exploratory Data Analysis**"
   ]
  },
  {
   "cell_type": "code",
   "execution_count": 34,
   "metadata": {},
   "outputs": [],
   "source": [
    "# read in data\n",
    "covid_f_raw = pd.read_csv('data/covid_forecast_2020-12-03.csv')\n",
    "covid_h_raw = pd.read_csv('data/COVID_historical_us-counties.csv')"
   ]
  },
  {
   "cell_type": "code",
   "execution_count": 35,
   "metadata": {},
   "outputs": [],
   "source": [
    "census_raw = pd.read_csv('data/2010_census_pop.csv',\n",
    "                    converters={'Zip Code ZCTA': lambda x: str(x)})\n",
    "pop_den_raw = pd.read_csv('data/uszips_pop_density.csv',\n",
    "                     converters={'zip': lambda x: str(x)})"
   ]
  },
  {
   "cell_type": "code",
   "execution_count": 36,
   "metadata": {},
   "outputs": [],
   "source": [
    "fb = pd.read_table('data/county_county_aug2020.tsv', \n",
    "                   converters={'user_loc': lambda x: str(x), \n",
    "                               'fr_loc': lambda x: str(x)})"
   ]
  },
  {
   "cell_type": "code",
   "execution_count": 37,
   "metadata": {},
   "outputs": [],
   "source": [
    "zips_fips_raw = pd.read_csv('data/zips_fips.csv',\n",
    "                           converters={'ZIP': lambda x: str(x)})"
   ]
  },
  {
   "cell_type": "markdown",
   "metadata": {},
   "source": [
    "**Areas of interest**\n",
    "\n",
    "```\n",
    "Challenges:\n",
    "1) large dataset\n",
    "- use random samples or duplicates?\n",
    "2) dispersion of data -> challenging to work with\n",
    "- use log transformation?\n",
    "\n",
    "Notes\n",
    "- how to treat counties?  Have to treat them in pairs or singularly?\n",
    "- some counties are dropped because of low fb users\n",
    "- SCI formula\n",
    "\n",
    "How to wrangle data:\n",
    "1) Take random sample from population ~ 1 million rows\n",
    "2) Remove duplicates ~ 5 million rows\n",
    "\n",
    "Data Cleaning\n",
    "1) add zeros to four digit zip codes - won't do\n",
    "2) add population data by zip code - done\n",
    "3) normalize cases/per capita - not started\n",
    "4) dataset of cities and zip code - not started\n",
    "5) added log transformation field - done\n",
    "\n",
    "Views of Analysis:\n",
    "- two buckets - high/low - won't do\n",
    "- stratified buckets - 5 or more? \n",
    "\n",
    "EDA - questions to answer\n",
    "The Basics\n",
    "- Are zip links directional? - done\n",
    "- What are the highest/smallest SCI indices, by zip? - done\n",
    "    -> create histogram of distribution of SCI indices - done\n",
    "- distribution of SCI indices? - done \n",
    "- What's the range of SCI indices? - done\n",
    "- How many zip pairs are there? - done\n",
    "- Average scaled_sci per zip? Zips with highest, lowest scaled_sci? - done, won't do\n",
    "- view of zip and average SCI - done\n",
    "\n",
    "How does the SCI relate to population? Do we see higher SCIs in zips with greater populations?\n",
    "1a) SCI vs population, all zips - DONE\n",
    "scatterplot of zip codes with dependent variable as SCI, independent variable as pop\n",
    "1b) SCI vs population/sq kilometer - DONE\n",
    "2) SCI vs population, grouped zips by population buckets\n",
    "- What range does SCI take over various population buckets?\n",
    "\n",
    "Additional Data Cleaning\n",
    "- mapping of FIPs to ZIPs\n",
    "- conversion of FIPs and ZIPs to dtype object vs int\n",
    "\n",
    "Total cases of Covid\n",
    "1) SCI vs total COVID cases\n",
    "\n",
    "Historical spread of COVID, relationship to SCI - timeseries\n",
    "1) How does the historical spread rate of COVID differ between counties with high SCI scores and those with low SCI scores?\n",
    "\n",
    "Future spread of COVID, relationship to SCI\n",
    "- Do prediction models indicate counties with higher SCIs will get more cases?\n",
    "\n",
    "Can I provide a recommendation to public health experts on potential areas of spread?\n",
    "\n",
    "Hypothesis testing\n",
    "- Is the incidence of COVID between zip pairs with high SCI significantly different than the incidence of COVID between zip pairs with low SCI?\n",
    "\n",
    "Questions\n",
    "- How am I defining the incidence of COVID? Spread? total number of cases? growth rate over time?\n",
    "- Recommendations/audience definition\n",
    "\n",
    "Extra Credit\n",
    "Network graph approach \n",
    "- how should network analysis be used as a tool to fight disease spread?\n",
    "1) Which nodes (zip codes) have the highest number of connections to other nodes (zip codes)? \n",
    "1a) Which nodes w/highest covid spread have highest number of connections to other high disease nodes? \n",
    "* edges would be scaled for a minimum SCI\n",
    "* degree centrality\n",
    "\n",
    "GIS graphs\n",
    "- sample two counties - show maps of SCI\n",
    "\n",
    "\n",
    "data sources:\n",
    "covid_forecast_2020-12-03.csv - nytimes\n",
    "COVID_historical_us-counties.csv - nytimes\n",
    "fb_SCI_county_county_aug2020.tsv - facebook data for good\n",
    "2010_census_pop.csv - US Census Bureau \n",
    "uszips_pop_density.csv - https://simplemaps.com/data/us-zips\n",
    "zip-county-fips - https://www.kaggle.com/danofer/zipcodes-county-fips-crosswalk\n",
    "\n",
    "c_historical = pd.read_csv('data/COVID_historical_us-counties.csv')\n",
    "fb_sci = pd.read_csv('data/fb_SCI_county_county_aug2020.tsv', sep='\\t')\n",
    "census = pd.read_csv('data/2010_census_pop.csv')\n",
    "pop_den = uszips_pop_density.csv\n",
    "zip_fips = zips_fips.csv\n",
    "```\n"
   ]
  },
  {
   "cell_type": "markdown",
   "metadata": {},
   "source": [
    "## Data Cleaning"
   ]
  },
  {
   "cell_type": "code",
   "execution_count": 38,
   "metadata": {},
   "outputs": [],
   "source": [
    "# create \n",
    "fb['log_sci'] = np.log10(fb['scaled_sci'])"
   ]
  },
  {
   "cell_type": "code",
   "execution_count": 39,
   "metadata": {},
   "outputs": [
    {
     "data": {
      "text/html": [
       "<div>\n",
       "<style scoped>\n",
       "    .dataframe tbody tr th:only-of-type {\n",
       "        vertical-align: middle;\n",
       "    }\n",
       "\n",
       "    .dataframe tbody tr th {\n",
       "        vertical-align: top;\n",
       "    }\n",
       "\n",
       "    .dataframe thead th {\n",
       "        text-align: right;\n",
       "    }\n",
       "</style>\n",
       "<table border=\"1\" class=\"dataframe\">\n",
       "  <thead>\n",
       "    <tr style=\"text-align: right;\">\n",
       "      <th></th>\n",
       "      <th>zip</th>\n",
       "      <th>density</th>\n",
       "    </tr>\n",
       "  </thead>\n",
       "  <tbody>\n",
       "    <tr>\n",
       "      <th>0</th>\n",
       "      <td>00601</td>\n",
       "      <td>111.4</td>\n",
       "    </tr>\n",
       "    <tr>\n",
       "      <th>1</th>\n",
       "      <td>00602</td>\n",
       "      <td>523.5</td>\n",
       "    </tr>\n",
       "    <tr>\n",
       "      <th>2</th>\n",
       "      <td>00603</td>\n",
       "      <td>667.9</td>\n",
       "    </tr>\n",
       "    <tr>\n",
       "      <th>3</th>\n",
       "      <td>00606</td>\n",
       "      <td>60.4</td>\n",
       "    </tr>\n",
       "    <tr>\n",
       "      <th>4</th>\n",
       "      <td>00610</td>\n",
       "      <td>312.0</td>\n",
       "    </tr>\n",
       "    <tr>\n",
       "      <th>...</th>\n",
       "      <td>...</td>\n",
       "      <td>...</td>\n",
       "    </tr>\n",
       "    <tr>\n",
       "      <th>33092</th>\n",
       "      <td>99923</td>\n",
       "      <td>2.1</td>\n",
       "    </tr>\n",
       "    <tr>\n",
       "      <th>33093</th>\n",
       "      <td>99925</td>\n",
       "      <td>5.7</td>\n",
       "    </tr>\n",
       "    <tr>\n",
       "      <th>33094</th>\n",
       "      <td>99926</td>\n",
       "      <td>4.2</td>\n",
       "    </tr>\n",
       "    <tr>\n",
       "      <th>33095</th>\n",
       "      <td>99927</td>\n",
       "      <td>0.2</td>\n",
       "    </tr>\n",
       "    <tr>\n",
       "      <th>33096</th>\n",
       "      <td>99929</td>\n",
       "      <td>0.4</td>\n",
       "    </tr>\n",
       "  </tbody>\n",
       "</table>\n",
       "<p>33097 rows × 2 columns</p>\n",
       "</div>"
      ],
      "text/plain": [
       "         zip  density\n",
       "0      00601    111.4\n",
       "1      00602    523.5\n",
       "2      00603    667.9\n",
       "3      00606     60.4\n",
       "4      00610    312.0\n",
       "...      ...      ...\n",
       "33092  99923      2.1\n",
       "33093  99925      5.7\n",
       "33094  99926      4.2\n",
       "33095  99927      0.2\n",
       "33096  99929      0.4\n",
       "\n",
       "[33097 rows x 2 columns]"
      ]
     },
     "execution_count": 39,
     "metadata": {},
     "output_type": "execute_result"
    }
   ],
   "source": [
    "# create population density table\n",
    "pop_den = pop_den_raw[['zip', 'density']]\n",
    "pop_den"
   ]
  },
  {
   "cell_type": "code",
   "execution_count": 40,
   "metadata": {},
   "outputs": [
    {
     "data": {
      "text/html": [
       "<div>\n",
       "<style scoped>\n",
       "    .dataframe tbody tr th:only-of-type {\n",
       "        vertical-align: middle;\n",
       "    }\n",
       "\n",
       "    .dataframe tbody tr th {\n",
       "        vertical-align: top;\n",
       "    }\n",
       "\n",
       "    .dataframe thead th {\n",
       "        text-align: right;\n",
       "    }\n",
       "</style>\n",
       "<table border=\"1\" class=\"dataframe\">\n",
       "  <thead>\n",
       "    <tr style=\"text-align: right;\">\n",
       "      <th></th>\n",
       "      <th>zip</th>\n",
       "      <th>density</th>\n",
       "    </tr>\n",
       "  </thead>\n",
       "  <tbody>\n",
       "    <tr>\n",
       "      <th>0</th>\n",
       "      <td>00601</td>\n",
       "      <td>111.4</td>\n",
       "    </tr>\n",
       "    <tr>\n",
       "      <th>1</th>\n",
       "      <td>00602</td>\n",
       "      <td>523.5</td>\n",
       "    </tr>\n",
       "    <tr>\n",
       "      <th>2</th>\n",
       "      <td>00603</td>\n",
       "      <td>667.9</td>\n",
       "    </tr>\n",
       "    <tr>\n",
       "      <th>3</th>\n",
       "      <td>00606</td>\n",
       "      <td>60.4</td>\n",
       "    </tr>\n",
       "    <tr>\n",
       "      <th>4</th>\n",
       "      <td>00610</td>\n",
       "      <td>312.0</td>\n",
       "    </tr>\n",
       "    <tr>\n",
       "      <th>...</th>\n",
       "      <td>...</td>\n",
       "      <td>...</td>\n",
       "    </tr>\n",
       "    <tr>\n",
       "      <th>33092</th>\n",
       "      <td>99923</td>\n",
       "      <td>2.1</td>\n",
       "    </tr>\n",
       "    <tr>\n",
       "      <th>33093</th>\n",
       "      <td>99925</td>\n",
       "      <td>5.7</td>\n",
       "    </tr>\n",
       "    <tr>\n",
       "      <th>33094</th>\n",
       "      <td>99926</td>\n",
       "      <td>4.2</td>\n",
       "    </tr>\n",
       "    <tr>\n",
       "      <th>33095</th>\n",
       "      <td>99927</td>\n",
       "      <td>0.2</td>\n",
       "    </tr>\n",
       "    <tr>\n",
       "      <th>33096</th>\n",
       "      <td>99929</td>\n",
       "      <td>0.4</td>\n",
       "    </tr>\n",
       "  </tbody>\n",
       "</table>\n",
       "<p>33097 rows × 2 columns</p>\n",
       "</div>"
      ],
      "text/plain": [
       "         zip  density\n",
       "0      00601    111.4\n",
       "1      00602    523.5\n",
       "2      00603    667.9\n",
       "3      00606     60.4\n",
       "4      00610    312.0\n",
       "...      ...      ...\n",
       "33092  99923      2.1\n",
       "33093  99925      5.7\n",
       "33094  99926      4.2\n",
       "33095  99927      0.2\n",
       "33096  99929      0.4\n",
       "\n",
       "[33097 rows x 2 columns]"
      ]
     },
     "execution_count": 40,
     "metadata": {},
     "output_type": "execute_result"
    }
   ],
   "source": [
    "pop_den"
   ]
  },
  {
   "cell_type": "markdown",
   "metadata": {},
   "source": [
    "## EDA - questions to answer"
   ]
  },
  {
   "cell_type": "markdown",
   "metadata": {},
   "source": [
    "### The Basics"
   ]
  },
  {
   "cell_type": "markdown",
   "metadata": {},
   "source": [
    "**Are zip links directional?**"
   ]
  },
  {
   "cell_type": "code",
   "execution_count": 41,
   "metadata": {},
   "outputs": [
    {
     "data": {
      "text/plain": [
       "0           13971142\n",
       "1             145133\n",
       "2             200193\n",
       "3             371688\n",
       "4              95859\n",
       "              ...   \n",
       "10426436       13881\n",
       "10426437        8328\n",
       "10426438    11155562\n",
       "10426439    14004203\n",
       "10426440    37515311\n",
       "Name: scaled_sci, Length: 10426441, dtype: int64"
      ]
     },
     "execution_count": 41,
     "metadata": {},
     "output_type": "execute_result"
    }
   ],
   "source": [
    "fb['scaled_sci']"
   ]
  },
  {
   "cell_type": "markdown",
   "metadata": {},
   "source": [
    "**What are the min and max SCIs?**"
   ]
  },
  {
   "cell_type": "code",
   "execution_count": 42,
   "metadata": {},
   "outputs": [
    {
     "data": {
      "text/plain": [
       "count      10426441\n",
       "mean          46074\n",
       "std         2179666\n",
       "min               1\n",
       "25%            1081\n",
       "50%            1942\n",
       "75%            4036\n",
       "max      1000000000\n",
       "Name: scaled_sci, dtype: int64"
      ]
     },
     "execution_count": 42,
     "metadata": {},
     "output_type": "execute_result"
    }
   ],
   "source": [
    "fb['scaled_sci'].describe().astype(int)"
   ]
  },
  {
   "cell_type": "markdown",
   "metadata": {},
   "source": [
    "**What is the distribution of SCI indices?**"
   ]
  },
  {
   "cell_type": "code",
   "execution_count": 43,
   "metadata": {},
   "outputs": [
    {
     "data": {
      "text/plain": [
       "user_loc      30035.000000\n",
       "fr_loc        30035.000000\n",
       "scaled_sci     1942.000000\n",
       "log_sci           3.288249\n",
       "dtype: float64"
      ]
     },
     "execution_count": 43,
     "metadata": {},
     "output_type": "execute_result"
    }
   ],
   "source": [
    "fb.median()"
   ]
  },
  {
   "cell_type": "code",
   "execution_count": 44,
   "metadata": {},
   "outputs": [
    {
     "data": {
      "image/png": "[encoded data removed]",
      "text/plain": [
       "<Figure size 432x288 with 1 Axes>"
      ]
     },
     "metadata": {
      "needs_background": "light"
     },
     "output_type": "display_data"
    }
   ],
   "source": [
    "plt.hist(fb['log_sci'], bins=100);"
   ]
  },
  {
   "cell_type": "code",
   "execution_count": 45,
   "metadata": {},
   "outputs": [
    {
     "data": {
      "image/png": "[encoded data removed]",
      "text/plain": [
       "<Figure size 864x360 with 1 Axes>"
      ]
     },
     "metadata": {
      "needs_background": "light"
     },
     "output_type": "display_data"
    }
   ],
   "source": [
    "fig, ax = plt.subplots(figsize=(12, 5))\n",
    "counts, bins, patches = ax.hist(fb['scaled_sci'], bins=5000)\n",
    "ax.set_ylim(0, 50000)\n",
    "ax.set_xlim(0, 10000000)\n",
    "ax.ticklabel_format(useOffset=False, style='plain')"
   ]
  },
  {
   "cell_type": "code",
   "execution_count": 46,
   "metadata": {},
   "outputs": [
    {
     "data": {
      "image/png": "[encoded data removed]",
      "text/plain": [
       "<Figure size 432x288 with 1 Axes>"
      ]
     },
     "metadata": {
      "needs_background": "light"
     },
     "output_type": "display_data"
    }
   ],
   "source": [
    "plt.boxplot(fb['log_sci'])\n",
    "ax.ticklabel_format(useOffset=False, style='plain');"
   ]
  },
  {
   "cell_type": "markdown",
   "metadata": {},
   "source": [
    "**Average scaled_sci per zip?**"
   ]
  },
  {
   "cell_type": "code",
   "execution_count": 47,
   "metadata": {},
   "outputs": [
    {
     "data": {
      "text/plain": [
       "Index(['user_loc', 'fr_loc', 'scaled_sci', 'log_sci'], dtype='object')"
      ]
     },
     "execution_count": 47,
     "metadata": {},
     "output_type": "execute_result"
    }
   ],
   "source": [
    "fb.columns"
   ]
  },
  {
   "cell_type": "code",
   "execution_count": 48,
   "metadata": {},
   "outputs": [
    {
     "data": {
      "text/html": [
       "<div>\n",
       "<style scoped>\n",
       "    .dataframe tbody tr th:only-of-type {\n",
       "        vertical-align: middle;\n",
       "    }\n",
       "\n",
       "    .dataframe tbody tr th {\n",
       "        vertical-align: top;\n",
       "    }\n",
       "\n",
       "    .dataframe thead th {\n",
       "        text-align: right;\n",
       "    }\n",
       "</style>\n",
       "<table border=\"1\" class=\"dataframe\">\n",
       "  <thead>\n",
       "    <tr style=\"text-align: right;\">\n",
       "      <th></th>\n",
       "      <th>scaled_sci</th>\n",
       "      <th>log_sci</th>\n",
       "    </tr>\n",
       "    <tr>\n",
       "      <th>user_loc</th>\n",
       "      <th></th>\n",
       "      <th></th>\n",
       "    </tr>\n",
       "  </thead>\n",
       "  <tbody>\n",
       "    <tr>\n",
       "      <th>60020</th>\n",
       "      <td>606989480</td>\n",
       "      <td>2250</td>\n",
       "    </tr>\n",
       "    <tr>\n",
       "      <th>69100</th>\n",
       "      <td>506414831</td>\n",
       "      <td>3551</td>\n",
       "    </tr>\n",
       "    <tr>\n",
       "      <th>69120</th>\n",
       "      <td>422975097</td>\n",
       "      <td>4891</td>\n",
       "    </tr>\n",
       "    <tr>\n",
       "      <th>72093</th>\n",
       "      <td>406876391</td>\n",
       "      <td>5718</td>\n",
       "    </tr>\n",
       "    <tr>\n",
       "      <th>72095</th>\n",
       "      <td>275029813</td>\n",
       "      <td>6020</td>\n",
       "    </tr>\n",
       "    <tr>\n",
       "      <th>...</th>\n",
       "      <td>...</td>\n",
       "      <td>...</td>\n",
       "    </tr>\n",
       "    <tr>\n",
       "      <th>37133</th>\n",
       "      <td>37086591</td>\n",
       "      <td>12432</td>\n",
       "    </tr>\n",
       "    <tr>\n",
       "      <th>38053</th>\n",
       "      <td>161550822</td>\n",
       "      <td>12460</td>\n",
       "    </tr>\n",
       "    <tr>\n",
       "      <th>29169</th>\n",
       "      <td>53971024</td>\n",
       "      <td>12493</td>\n",
       "    </tr>\n",
       "    <tr>\n",
       "      <th>20061</th>\n",
       "      <td>62380441</td>\n",
       "      <td>12591</td>\n",
       "    </tr>\n",
       "    <tr>\n",
       "      <th>13053</th>\n",
       "      <td>66233422</td>\n",
       "      <td>12800</td>\n",
       "    </tr>\n",
       "  </tbody>\n",
       "</table>\n",
       "<p>3229 rows × 2 columns</p>\n",
       "</div>"
      ],
      "text/plain": [
       "          scaled_sci  log_sci\n",
       "user_loc                     \n",
       "60020      606989480     2250\n",
       "69100      506414831     3551\n",
       "69120      422975097     4891\n",
       "72093      406876391     5718\n",
       "72095      275029813     6020\n",
       "...              ...      ...\n",
       "37133       37086591    12432\n",
       "38053      161550822    12460\n",
       "29169       53971024    12493\n",
       "20061       62380441    12591\n",
       "13053       66233422    12800\n",
       "\n",
       "[3229 rows x 2 columns]"
      ]
     },
     "execution_count": 48,
     "metadata": {},
     "output_type": "execute_result"
    }
   ],
   "source": [
    "fb.groupby(by='user_loc').sum('scaled_sci').astype(int).sort_values(by='log_sci')"
   ]
  },
  {
   "cell_type": "code",
   "execution_count": 49,
   "metadata": {},
   "outputs": [
    {
     "data": {
      "text/html": [
       "<div>\n",
       "<style scoped>\n",
       "    .dataframe tbody tr th:only-of-type {\n",
       "        vertical-align: middle;\n",
       "    }\n",
       "\n",
       "    .dataframe tbody tr th {\n",
       "        vertical-align: top;\n",
       "    }\n",
       "\n",
       "    .dataframe thead th {\n",
       "        text-align: right;\n",
       "    }\n",
       "</style>\n",
       "<table border=\"1\" class=\"dataframe\">\n",
       "  <thead>\n",
       "    <tr style=\"text-align: right;\">\n",
       "      <th></th>\n",
       "      <th>user_loc</th>\n",
       "      <th>fr_loc</th>\n",
       "      <th>scaled_sci</th>\n",
       "      <th>log_sci</th>\n",
       "    </tr>\n",
       "  </thead>\n",
       "  <tbody>\n",
       "    <tr>\n",
       "      <th>568263</th>\n",
       "      <td>05129</td>\n",
       "      <td>72079</td>\n",
       "      <td>1</td>\n",
       "      <td>0.000000</td>\n",
       "    </tr>\n",
       "    <tr>\n",
       "      <th>5483041</th>\n",
       "      <td>31091</td>\n",
       "      <td>06027</td>\n",
       "      <td>1</td>\n",
       "      <td>0.000000</td>\n",
       "    </tr>\n",
       "    <tr>\n",
       "      <th>6486550</th>\n",
       "      <td>38039</td>\n",
       "      <td>48393</td>\n",
       "      <td>1</td>\n",
       "      <td>0.000000</td>\n",
       "    </tr>\n",
       "    <tr>\n",
       "      <th>6486549</th>\n",
       "      <td>38039</td>\n",
       "      <td>48391</td>\n",
       "      <td>1</td>\n",
       "      <td>0.000000</td>\n",
       "    </tr>\n",
       "    <tr>\n",
       "      <th>4328891</th>\n",
       "      <td>27055</td>\n",
       "      <td>38085</td>\n",
       "      <td>1</td>\n",
       "      <td>0.000000</td>\n",
       "    </tr>\n",
       "    <tr>\n",
       "      <th>...</th>\n",
       "      <td>...</td>\n",
       "      <td>...</td>\n",
       "      <td>...</td>\n",
       "      <td>...</td>\n",
       "    </tr>\n",
       "    <tr>\n",
       "      <th>8197740</th>\n",
       "      <td>48033</td>\n",
       "      <td>48033</td>\n",
       "      <td>684633720</td>\n",
       "      <td>8.835458</td>\n",
       "    </tr>\n",
       "    <tr>\n",
       "      <th>7722930</th>\n",
       "      <td>46063</td>\n",
       "      <td>46063</td>\n",
       "      <td>757162537</td>\n",
       "      <td>8.879189</td>\n",
       "    </tr>\n",
       "    <tr>\n",
       "      <th>5332730</th>\n",
       "      <td>30109</td>\n",
       "      <td>30109</td>\n",
       "      <td>789302096</td>\n",
       "      <td>8.897243</td>\n",
       "    </tr>\n",
       "    <tr>\n",
       "      <th>303620</th>\n",
       "      <td>02282</td>\n",
       "      <td>02282</td>\n",
       "      <td>899409678</td>\n",
       "      <td>8.953958</td>\n",
       "    </tr>\n",
       "    <tr>\n",
       "      <th>5209990</th>\n",
       "      <td>30033</td>\n",
       "      <td>30033</td>\n",
       "      <td>1000000000</td>\n",
       "      <td>9.000000</td>\n",
       "    </tr>\n",
       "  </tbody>\n",
       "</table>\n",
       "<p>10426441 rows × 4 columns</p>\n",
       "</div>"
      ],
      "text/plain": [
       "        user_loc fr_loc  scaled_sci   log_sci\n",
       "568263     05129  72079           1  0.000000\n",
       "5483041    31091  06027           1  0.000000\n",
       "6486550    38039  48393           1  0.000000\n",
       "6486549    38039  48391           1  0.000000\n",
       "4328891    27055  38085           1  0.000000\n",
       "...          ...    ...         ...       ...\n",
       "8197740    48033  48033   684633720  8.835458\n",
       "7722930    46063  46063   757162537  8.879189\n",
       "5332730    30109  30109   789302096  8.897243\n",
       "303620     02282  02282   899409678  8.953958\n",
       "5209990    30033  30033  1000000000  9.000000\n",
       "\n",
       "[10426441 rows x 4 columns]"
      ]
     },
     "execution_count": 49,
     "metadata": {},
     "output_type": "execute_result"
    }
   ],
   "source": [
    "fb.sort_values(by='scaled_sci')"
   ]
  },
  {
   "cell_type": "markdown",
   "metadata": {},
   "source": [
    "### How does the SCI relate to population?"
   ]
  },
  {
   "cell_type": "markdown",
   "metadata": {},
   "source": [
    "#### SCI vs Population"
   ]
  },
  {
   "cell_type": "code",
   "execution_count": 50,
   "metadata": {},
   "outputs": [
    {
     "data": {
      "text/html": [
       "<div>\n",
       "<style scoped>\n",
       "    .dataframe tbody tr th:only-of-type {\n",
       "        vertical-align: middle;\n",
       "    }\n",
       "\n",
       "    .dataframe tbody tr th {\n",
       "        vertical-align: top;\n",
       "    }\n",
       "\n",
       "    .dataframe thead th {\n",
       "        text-align: right;\n",
       "    }\n",
       "</style>\n",
       "<table border=\"1\" class=\"dataframe\">\n",
       "  <thead>\n",
       "    <tr style=\"text-align: right;\">\n",
       "      <th></th>\n",
       "      <th>Zip Code ZCTA</th>\n",
       "      <th>2010 Census Population</th>\n",
       "    </tr>\n",
       "  </thead>\n",
       "  <tbody>\n",
       "    <tr>\n",
       "      <th>0</th>\n",
       "      <td>01001</td>\n",
       "      <td>16769</td>\n",
       "    </tr>\n",
       "    <tr>\n",
       "      <th>1</th>\n",
       "      <td>01002</td>\n",
       "      <td>29049</td>\n",
       "    </tr>\n",
       "    <tr>\n",
       "      <th>2</th>\n",
       "      <td>01003</td>\n",
       "      <td>10372</td>\n",
       "    </tr>\n",
       "    <tr>\n",
       "      <th>3</th>\n",
       "      <td>01005</td>\n",
       "      <td>5079</td>\n",
       "    </tr>\n",
       "    <tr>\n",
       "      <th>4</th>\n",
       "      <td>01007</td>\n",
       "      <td>14649</td>\n",
       "    </tr>\n",
       "    <tr>\n",
       "      <th>...</th>\n",
       "      <td>...</td>\n",
       "      <td>...</td>\n",
       "    </tr>\n",
       "    <tr>\n",
       "      <th>33087</th>\n",
       "      <td>99923</td>\n",
       "      <td>87</td>\n",
       "    </tr>\n",
       "    <tr>\n",
       "      <th>33088</th>\n",
       "      <td>99925</td>\n",
       "      <td>819</td>\n",
       "    </tr>\n",
       "    <tr>\n",
       "      <th>33089</th>\n",
       "      <td>99926</td>\n",
       "      <td>1460</td>\n",
       "    </tr>\n",
       "    <tr>\n",
       "      <th>33090</th>\n",
       "      <td>99927</td>\n",
       "      <td>94</td>\n",
       "    </tr>\n",
       "    <tr>\n",
       "      <th>33091</th>\n",
       "      <td>99929</td>\n",
       "      <td>2338</td>\n",
       "    </tr>\n",
       "  </tbody>\n",
       "</table>\n",
       "<p>33092 rows × 2 columns</p>\n",
       "</div>"
      ],
      "text/plain": [
       "      Zip Code ZCTA  2010 Census Population\n",
       "0             01001                   16769\n",
       "1             01002                   29049\n",
       "2             01003                   10372\n",
       "3             01005                    5079\n",
       "4             01007                   14649\n",
       "...             ...                     ...\n",
       "33087         99923                      87\n",
       "33088         99925                     819\n",
       "33089         99926                    1460\n",
       "33090         99927                      94\n",
       "33091         99929                    2338\n",
       "\n",
       "[33092 rows x 2 columns]"
      ]
     },
     "execution_count": 50,
     "metadata": {},
     "output_type": "execute_result"
    }
   ],
   "source": [
    "census_raw"
   ]
  },
  {
   "cell_type": "code",
   "execution_count": 51,
   "metadata": {},
   "outputs": [],
   "source": [
    "census_join = census_raw.set_index('Zip Code ZCTA').join(fb.set_index('user_loc'))\n",
    "cen_re = census_join.reset_index().dropna(axis=0).drop(columns='fr_loc').groupby(by='index').mean('scaled_sci')\n",
    "cen_re.rename(columns={'index':'user_zip', '2010 Census Population': 'pop'}, inplace=True)"
   ]
  },
  {
   "cell_type": "code",
   "execution_count": 52,
   "metadata": {},
   "outputs": [
    {
     "data": {
      "text/html": [
       "<div>\n",
       "<style scoped>\n",
       "    .dataframe tbody tr th:only-of-type {\n",
       "        vertical-align: middle;\n",
       "    }\n",
       "\n",
       "    .dataframe tbody tr th {\n",
       "        vertical-align: top;\n",
       "    }\n",
       "\n",
       "    .dataframe thead th {\n",
       "        text-align: right;\n",
       "    }\n",
       "</style>\n",
       "<table border=\"1\" class=\"dataframe\">\n",
       "  <thead>\n",
       "    <tr style=\"text-align: right;\">\n",
       "      <th></th>\n",
       "      <th>index</th>\n",
       "      <th>pop</th>\n",
       "      <th>scaled_sci</th>\n",
       "      <th>log_sci</th>\n",
       "    </tr>\n",
       "  </thead>\n",
       "  <tbody>\n",
       "    <tr>\n",
       "      <th>0</th>\n",
       "      <td>01001</td>\n",
       "      <td>16769.0</td>\n",
       "      <td>18051.920718</td>\n",
       "      <td>3.447295</td>\n",
       "    </tr>\n",
       "    <tr>\n",
       "      <th>1</th>\n",
       "      <td>01003</td>\n",
       "      <td>10372.0</td>\n",
       "      <td>10736.893465</td>\n",
       "      <td>3.591924</td>\n",
       "    </tr>\n",
       "    <tr>\n",
       "      <th>2</th>\n",
       "      <td>01005</td>\n",
       "      <td>5079.0</td>\n",
       "      <td>69717.397027</td>\n",
       "      <td>3.284667</td>\n",
       "    </tr>\n",
       "    <tr>\n",
       "      <th>3</th>\n",
       "      <td>01007</td>\n",
       "      <td>14649.0</td>\n",
       "      <td>36740.415609</td>\n",
       "      <td>3.277721</td>\n",
       "    </tr>\n",
       "    <tr>\n",
       "      <th>4</th>\n",
       "      <td>01009</td>\n",
       "      <td>741.0</td>\n",
       "      <td>13407.449675</td>\n",
       "      <td>3.320542</td>\n",
       "    </tr>\n",
       "    <tr>\n",
       "      <th>...</th>\n",
       "      <td>...</td>\n",
       "      <td>...</td>\n",
       "      <td>...</td>\n",
       "      <td>...</td>\n",
       "    </tr>\n",
       "    <tr>\n",
       "      <th>1486</th>\n",
       "      <td>72141</td>\n",
       "      <td>625.0</td>\n",
       "      <td>37517.751936</td>\n",
       "      <td>2.324113</td>\n",
       "    </tr>\n",
       "    <tr>\n",
       "      <th>1487</th>\n",
       "      <td>72143</td>\n",
       "      <td>35169.0</td>\n",
       "      <td>27528.043667</td>\n",
       "      <td>2.530625</td>\n",
       "    </tr>\n",
       "    <tr>\n",
       "      <th>1488</th>\n",
       "      <td>72149</td>\n",
       "      <td>0.0</td>\n",
       "      <td>48107.852896</td>\n",
       "      <td>2.163793</td>\n",
       "    </tr>\n",
       "    <tr>\n",
       "      <th>1489</th>\n",
       "      <td>72153</td>\n",
       "      <td>2572.0</td>\n",
       "      <td>39053.460824</td>\n",
       "      <td>2.377968</td>\n",
       "    </tr>\n",
       "    <tr>\n",
       "      <th>1490</th>\n",
       "      <td>78010</td>\n",
       "      <td>3386.0</td>\n",
       "      <td>24755.935893</td>\n",
       "      <td>3.346751</td>\n",
       "    </tr>\n",
       "  </tbody>\n",
       "</table>\n",
       "<p>1491 rows × 4 columns</p>\n",
       "</div>"
      ],
      "text/plain": [
       "      index      pop    scaled_sci   log_sci\n",
       "0     01001  16769.0  18051.920718  3.447295\n",
       "1     01003  10372.0  10736.893465  3.591924\n",
       "2     01005   5079.0  69717.397027  3.284667\n",
       "3     01007  14649.0  36740.415609  3.277721\n",
       "4     01009    741.0  13407.449675  3.320542\n",
       "...     ...      ...           ...       ...\n",
       "1486  72141    625.0  37517.751936  2.324113\n",
       "1487  72143  35169.0  27528.043667  2.530625\n",
       "1488  72149      0.0  48107.852896  2.163793\n",
       "1489  72153   2572.0  39053.460824  2.377968\n",
       "1490  78010   3386.0  24755.935893  3.346751\n",
       "\n",
       "[1491 rows x 4 columns]"
      ]
     },
     "execution_count": 52,
     "metadata": {},
     "output_type": "execute_result"
    }
   ],
   "source": [
    "cen_re.reset_index()"
   ]
  },
  {
   "cell_type": "code",
   "execution_count": 53,
   "metadata": {},
   "outputs": [],
   "source": [
    "x = cen_re['pop']\n",
    "y = cen_re['scaled_sci']"
   ]
  },
  {
   "cell_type": "code",
   "execution_count": 54,
   "metadata": {},
   "outputs": [
    {
     "data": {
      "text/plain": [
       "Text(0.5, 1.0, 'Mean SCI vs. Population')"
      ]
     },
     "execution_count": 54,
     "metadata": {},
     "output_type": "execute_result"
    },
    {
     "data": {
      "image/png": "[encoded data removed]",
      "text/plain": [
       "<Figure size 864x360 with 1 Axes>"
      ]
     },
     "metadata": {
      "needs_background": "light"
     },
     "output_type": "display_data"
    }
   ],
   "source": [
    "fig, ax = plt.subplots(1, 1, figsize=(12, 5))\n",
    "plt.scatter(x, y, alpha=.1, color='dodgerblue')\n",
    "ax.set_ylabel('Mean SCI')\n",
    "ax.set_xlabel('Population')\n",
    "ax.set_title('Mean SCI vs. Population')"
   ]
  },
  {
   "cell_type": "markdown",
   "metadata": {},
   "source": [
    "#### SCI vs Population, log transformation"
   ]
  },
  {
   "cell_type": "code",
   "execution_count": 55,
   "metadata": {},
   "outputs": [],
   "source": [
    "cen_re['log_sci'] = np.log10(cen_re['scaled_sci'])"
   ]
  },
  {
   "cell_type": "code",
   "execution_count": 56,
   "metadata": {},
   "outputs": [],
   "source": [
    "x = cen_re['pop']\n",
    "y = cen_re['log_sci']"
   ]
  },
  {
   "cell_type": "code",
   "execution_count": 57,
   "metadata": {},
   "outputs": [
    {
     "data": {
      "image/png": "[encoded data removed]",
      "text/plain": [
       "<Figure size 864x360 with 1 Axes>"
      ]
     },
     "metadata": {
      "needs_background": "light"
     },
     "output_type": "display_data"
    }
   ],
   "source": [
    "fig, ax = plt.subplots(1, 1, figsize=(12, 5))\n",
    "plt.scatter(x, y, alpha=.1, color='dodgerblue')\n",
    "ax.set_ylabel('Mean SCI, log')\n",
    "ax.set_xlabel('Population')\n",
    "ax.set_title('Mean log SCI vs. Population');"
   ]
  },
  {
   "cell_type": "markdown",
   "metadata": {},
   "source": [
    "#### SCI (log transformation) vs Population/sq km"
   ]
  },
  {
   "cell_type": "code",
   "execution_count": 58,
   "metadata": {},
   "outputs": [],
   "source": [
    "popdensci = cen_re.join(pop_den.set_index('zip'))"
   ]
  },
  {
   "cell_type": "code",
   "execution_count": 59,
   "metadata": {},
   "outputs": [
    {
     "data": {
      "text/plain": [
       "''"
      ]
     },
     "execution_count": 59,
     "metadata": {},
     "output_type": "execute_result"
    },
    {
     "data": {
      "image/png": "[encoded data removed]",
      "text/plain": [
       "<Figure size 864x360 with 1 Axes>"
      ]
     },
     "metadata": {
      "needs_background": "light"
     },
     "output_type": "display_data"
    }
   ],
   "source": [
    "x = popdensci['density']\n",
    "y = popdensci['log_sci']\n",
    "\n",
    "fig, ax = plt.subplots(1, 1, figsize=(12, 5))\n",
    "plt.scatter(x, y, alpha=.1, color='dodgerblue')\n",
    "ax.set_ylabel('SCI, log')\n",
    "ax.set_xlabel('Population Density')\n",
    "ax.set_title('SCI log vs. Population Density ')\n",
    ";"
   ]
  },
  {
   "cell_type": "markdown",
   "metadata": {},
   "source": [
    "### SCI vs total COVID cases"
   ]
  },
  {
   "cell_type": "markdown",
   "metadata": {},
   "source": [
    "#### Data Cleaning"
   ]
  },
  {
   "cell_type": "code",
   "execution_count": 60,
   "metadata": {},
   "outputs": [],
   "source": [
    "# grouping covid cases by fips\n",
    "covid_h = covid_h_raw.groupby('fips').sum()\n",
    "# tables used below:\n",
    "## popdensci, zips_fips_raw, covid_h"
   ]
  },
  {
   "cell_type": "code",
   "execution_count": 61,
   "metadata": {},
   "outputs": [
    {
     "data": {
      "text/html": [
       "<div>\n",
       "<style scoped>\n",
       "    .dataframe tbody tr th:only-of-type {\n",
       "        vertical-align: middle;\n",
       "    }\n",
       "\n",
       "    .dataframe tbody tr th {\n",
       "        vertical-align: top;\n",
       "    }\n",
       "\n",
       "    .dataframe thead th {\n",
       "        text-align: right;\n",
       "    }\n",
       "</style>\n",
       "<table border=\"1\" class=\"dataframe\">\n",
       "  <thead>\n",
       "    <tr style=\"text-align: right;\">\n",
       "      <th></th>\n",
       "      <th>zip</th>\n",
       "      <th>pop</th>\n",
       "      <th>scaled_sci</th>\n",
       "      <th>log_sci</th>\n",
       "      <th>density</th>\n",
       "      <th>COUNTYNAME</th>\n",
       "      <th>STATE</th>\n",
       "      <th>CLASSFP</th>\n",
       "      <th>cases</th>\n",
       "      <th>deaths</th>\n",
       "    </tr>\n",
       "  </thead>\n",
       "  <tbody>\n",
       "    <tr>\n",
       "      <th>1001.0</th>\n",
       "      <td>36003</td>\n",
       "      <td>1975.0</td>\n",
       "      <td>14718.700526</td>\n",
       "      <td>4.167869</td>\n",
       "      <td>8.2</td>\n",
       "      <td>Autauga County</td>\n",
       "      <td>AL</td>\n",
       "      <td>H1</td>\n",
       "      <td>273539.0</td>\n",
       "      <td>4496.0</td>\n",
       "    </tr>\n",
       "    <tr>\n",
       "      <th>1001.0</th>\n",
       "      <td>36051</td>\n",
       "      <td>2304.0</td>\n",
       "      <td>10743.957572</td>\n",
       "      <td>4.031164</td>\n",
       "      <td>17.5</td>\n",
       "      <td>Autauga County</td>\n",
       "      <td>AL</td>\n",
       "      <td>H1</td>\n",
       "      <td>273539.0</td>\n",
       "      <td>4496.0</td>\n",
       "    </tr>\n",
       "    <tr>\n",
       "      <th>1001.0</th>\n",
       "      <td>36067</td>\n",
       "      <td>26954.0</td>\n",
       "      <td>5277.014246</td>\n",
       "      <td>3.722388</td>\n",
       "      <td>43.5</td>\n",
       "      <td>Autauga County</td>\n",
       "      <td>AL</td>\n",
       "      <td>H1</td>\n",
       "      <td>273539.0</td>\n",
       "      <td>4496.0</td>\n",
       "    </tr>\n",
       "    <tr>\n",
       "      <th>1001.0</th>\n",
       "      <td>36091</td>\n",
       "      <td>3648.0</td>\n",
       "      <td>6445.646330</td>\n",
       "      <td>3.809266</td>\n",
       "      <td>17.2</td>\n",
       "      <td>Autauga County</td>\n",
       "      <td>AL</td>\n",
       "      <td>H1</td>\n",
       "      <td>273539.0</td>\n",
       "      <td>4496.0</td>\n",
       "    </tr>\n",
       "    <tr>\n",
       "      <th>1005.0</th>\n",
       "      <td>36017</td>\n",
       "      <td>3318.0</td>\n",
       "      <td>12606.702694</td>\n",
       "      <td>4.100602</td>\n",
       "      <td>20.6</td>\n",
       "      <td>Barbour County</td>\n",
       "      <td>AL</td>\n",
       "      <td>H1</td>\n",
       "      <td>138913.0</td>\n",
       "      <td>1202.0</td>\n",
       "    </tr>\n",
       "    <tr>\n",
       "      <th>...</th>\n",
       "      <td>...</td>\n",
       "      <td>...</td>\n",
       "      <td>...</td>\n",
       "      <td>...</td>\n",
       "      <td>...</td>\n",
       "      <td>...</td>\n",
       "      <td>...</td>\n",
       "      <td>...</td>\n",
       "      <td>...</td>\n",
       "      <td>...</td>\n",
       "    </tr>\n",
       "    <tr>\n",
       "      <th>55133.0</th>\n",
       "      <td>53017</td>\n",
       "      <td>5538.0</td>\n",
       "      <td>8285.122639</td>\n",
       "      <td>3.918299</td>\n",
       "      <td>122.2</td>\n",
       "      <td>Waukesha County</td>\n",
       "      <td>WI</td>\n",
       "      <td>H1</td>\n",
       "      <td>1569267.0</td>\n",
       "      <td>17064.0</td>\n",
       "    </tr>\n",
       "    <tr>\n",
       "      <th>55133.0</th>\n",
       "      <td>53029</td>\n",
       "      <td>20799.0</td>\n",
       "      <td>6907.350263</td>\n",
       "      <td>3.839311</td>\n",
       "      <td>215.9</td>\n",
       "      <td>Waukesha County</td>\n",
       "      <td>WI</td>\n",
       "      <td>H1</td>\n",
       "      <td>1569267.0</td>\n",
       "      <td>17064.0</td>\n",
       "    </tr>\n",
       "    <tr>\n",
       "      <th>55133.0</th>\n",
       "      <td>53045</td>\n",
       "      <td>21686.0</td>\n",
       "      <td>7415.146795</td>\n",
       "      <td>3.870120</td>\n",
       "      <td>582.4</td>\n",
       "      <td>Waukesha County</td>\n",
       "      <td>WI</td>\n",
       "      <td>H1</td>\n",
       "      <td>1569267.0</td>\n",
       "      <td>17064.0</td>\n",
       "    </tr>\n",
       "    <tr>\n",
       "      <th>55133.0</th>\n",
       "      <td>53051</td>\n",
       "      <td>35651.0</td>\n",
       "      <td>17320.237845</td>\n",
       "      <td>4.238554</td>\n",
       "      <td>417.9</td>\n",
       "      <td>Waukesha County</td>\n",
       "      <td>WI</td>\n",
       "      <td>H1</td>\n",
       "      <td>1569267.0</td>\n",
       "      <td>17064.0</td>\n",
       "    </tr>\n",
       "    <tr>\n",
       "      <th>55133.0</th>\n",
       "      <td>53069</td>\n",
       "      <td>697.0</td>\n",
       "      <td>36255.694333</td>\n",
       "      <td>4.559376</td>\n",
       "      <td>696.7</td>\n",
       "      <td>Waukesha County</td>\n",
       "      <td>WI</td>\n",
       "      <td>H1</td>\n",
       "      <td>1569267.0</td>\n",
       "      <td>17064.0</td>\n",
       "    </tr>\n",
       "  </tbody>\n",
       "</table>\n",
       "<p>2232 rows × 10 columns</p>\n",
       "</div>"
      ],
      "text/plain": [
       "           zip      pop    scaled_sci   log_sci  density       COUNTYNAME  \\\n",
       "1001.0   36003   1975.0  14718.700526  4.167869      8.2   Autauga County   \n",
       "1001.0   36051   2304.0  10743.957572  4.031164     17.5   Autauga County   \n",
       "1001.0   36067  26954.0   5277.014246  3.722388     43.5   Autauga County   \n",
       "1001.0   36091   3648.0   6445.646330  3.809266     17.2   Autauga County   \n",
       "1005.0   36017   3318.0  12606.702694  4.100602     20.6   Barbour County   \n",
       "...        ...      ...           ...       ...      ...              ...   \n",
       "55133.0  53017   5538.0   8285.122639  3.918299    122.2  Waukesha County   \n",
       "55133.0  53029  20799.0   6907.350263  3.839311    215.9  Waukesha County   \n",
       "55133.0  53045  21686.0   7415.146795  3.870120    582.4  Waukesha County   \n",
       "55133.0  53051  35651.0  17320.237845  4.238554    417.9  Waukesha County   \n",
       "55133.0  53069    697.0  36255.694333  4.559376    696.7  Waukesha County   \n",
       "\n",
       "        STATE CLASSFP      cases   deaths  \n",
       "1001.0     AL      H1   273539.0   4496.0  \n",
       "1001.0     AL      H1   273539.0   4496.0  \n",
       "1001.0     AL      H1   273539.0   4496.0  \n",
       "1001.0     AL      H1   273539.0   4496.0  \n",
       "1005.0     AL      H1   138913.0   1202.0  \n",
       "...       ...     ...        ...      ...  \n",
       "55133.0    WI      H1  1569267.0  17064.0  \n",
       "55133.0    WI      H1  1569267.0  17064.0  \n",
       "55133.0    WI      H1  1569267.0  17064.0  \n",
       "55133.0    WI      H1  1569267.0  17064.0  \n",
       "55133.0    WI      H1  1569267.0  17064.0  \n",
       "\n",
       "[2232 rows x 10 columns]"
      ]
     },
     "execution_count": 61,
     "metadata": {},
     "output_type": "execute_result"
    }
   ],
   "source": [
    "popdensci.join(zips_fips_raw.set_index('ZIP'))\\\n",
    ".astype({'STCOUNTYFP':'object'})\\\n",
    ".reset_index()\\\n",
    ".set_index('STCOUNTYFP')\\\n",
    ".join(covid_h)\\\n",
    ".rename(columns={'index':'zip'})\\\n",
    ".dropna(axis=0)"
   ]
  },
  {
   "cell_type": "code",
   "execution_count": null,
   "metadata": {},
   "outputs": [],
   "source": []
  }
 ],
 "metadata": {
  "kernelspec": {
   "display_name": "Python 3.7.3 64-bit ('base': conda)",
   "language": "python",
   "name": "python37364bitbaseconda97b54b0afe5f4f968b0e6a2edab277da"
  },
  "language_info": {
   "codemirror_mode": {
    "name": "ipython",
    "version": 3
   },
   "file_extension": ".py",
   "mimetype": "text/x-python",
   "name": "python",
   "nbconvert_exporter": "python",
   "pygments_lexer": "ipython3",
   "version": "3.7.7"
  },
  "toc": {
   "base_numbering": 1,
   "nav_menu": {},
   "number_sections": false,
   "sideBar": true,
   "skip_h1_title": false,
   "title_cell": "Table of Contents",
   "title_sidebar": "Contents",
   "toc_cell": false,
   "toc_position": {},
   "toc_section_display": true,
   "toc_window_display": false
  }
 },
 "nbformat": 4,
 "nbformat_minor": 4
}
