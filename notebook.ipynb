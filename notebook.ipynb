{
 "metadata": {
  "language_info": {
   "codemirror_mode": {
    "name": "ipython",
    "version": 3
   },
   "file_extension": ".py",
   "mimetype": "text/x-python",
   "name": "python",
   "nbconvert_exporter": "python",
   "pygments_lexer": "ipython3",
   "version": "3.7.7-final"
  },
  "orig_nbformat": 2,
  "kernelspec": {
   "name": "python3",
   "display_name": "Python 3",
   "language": "python"
  }
 },
 "nbformat": 4,
 "nbformat_minor": 2,
 "cells": [
  {
   "source": [
    "# The Basics"
   ],
   "cell_type": "markdown",
   "metadata": {}
  },
  {
   "cell_type": "code",
   "execution_count": null,
   "metadata": {},
   "outputs": [],
   "source": [
    "# Import Packages\n",
    "import pandas as pd\n",
    "import numpy as np\n",
    "\n",
    "import matplotlib.pyplot as plt\n",
    "\n",
    "import seaborn as sns\n",
    "import networkx as nx\n",
    "\n",
    "import geopandas\n",
    "\n",
    "%matplotlib inline\n",
    "pd.set_option('display.max_rows', 999)"
   ]
  },
  {
   "source": [
    "# **Exploratory Data Analysis**"
   ],
   "cell_type": "markdown",
   "metadata": {}
  },
  {
   "cell_type": "code",
   "execution_count": null,
   "metadata": {},
   "outputs": [],
   "source": [
    "# read in data\n",
    "covid_f_raw = pd.read_csv('data/covid_forecast_2020-12-03.csv')\n",
    "covid_h_raw = pd.read_csv('data/COVID_historical_us-counties.csv',\n",
    "                         converters={'fips': lambda x: str(x)})\n",
    "\n",
    "census_raw = pd.read_csv('data/2010_census_pop.csv',\n",
    "                    converters={'Zip Code ZCTA': lambda x: str(x)})\n",
    "pop_den_raw = pd.read_csv('data/uszips_pop_density.csv',\n",
    "                     converters={'zip': lambda x: str(x)})\n",
    "fips_pop = pd.read_csv('data/fips_population.csv',\n",
    "                      converters={'FIPS': lambda x: str(x)})\n",
    "\n",
    "fb = pd.read_table('data/county_county_aug2020.tsv', \n",
    "                   converters={'user_loc': lambda x: str(x), \n",
    "                               'fr_loc': lambda x: str(x)})\n",
    "\n",
    "# Generate Map File from Shape File\n",
    "us_map = geopandas.read_file('data/cb_2018_us_county_20m 2/cb_2018_us_county_20m.shp')\n",
    "\n",
    "# Log Transform 'Scaled SCI' \n",
    "fb['log_sci'] = np.log10(fb['scaled_sci'])"
   ]
  },
  {
   "cell_type": "code",
   "execution_count": null,
   "metadata": {},
   "outputs": [],
   "source": [
    "sf_county = fb[fb['user_loc'] == '06075']\n",
    "sf_county['GEOID'] = sf_county['fr_loc']\n",
    "\n",
    "kern_county = fb[fb['user_loc'] == '06029']\n",
    "kern_county['GEOID'] = kern_county['fr_loc']"
   ]
  },
  {
   "cell_type": "code",
   "execution_count": null,
   "metadata": {},
   "outputs": [],
   "source": [
    "sf_map = us_map.merge(sf_county, on='GEOID')\n",
    "kern_map = us_map.merge(kern_county, on='GEOID')\n",
    "\n"
   ]
  },
  {
   "cell_type": "code",
   "execution_count": null,
   "metadata": {},
   "outputs": [],
   "source": [
    "sf_map"
   ]
  },
  {
   "source": [
    "## GIS Exploration of County Social Connections"
   ],
   "cell_type": "markdown",
   "metadata": {}
  },
  {
   "cell_type": "code",
   "execution_count": null,
   "metadata": {},
   "outputs": [],
   "source": [
    "# plot Social Connections of San Francisco County residents to other counties\n",
    "\n",
    "fig, ax = plt.subplots(figsize=(20, 15))\n",
    "sf_map.plot(ax=ax, column='log_sci', \n",
    "            scheme='natural_breaks', \n",
    "            cmap='Blues', \n",
    "            legend=True)\n",
    "\n",
    "ax.set_xlim(-125, -65)\n",
    "ax.set_ylim(23, 50)\n",
    "ax.set(title=\"San Francisco County\")\n",
    "ax.axis(\"off\")\n",
    "# plt.savefig('SF_county_SCI_map.png')\n",
    ";"
   ]
  },
  {
   "cell_type": "code",
   "execution_count": null,
   "metadata": {},
   "outputs": [],
   "source": [
    "# plot Social Connections of Kern County residents to other counties\n",
    "\n",
    "fig, ax = plt.subplots(figsize=(20, 15))\n",
    "kern_map.plot(ax=ax, column='log_sci', \n",
    "            scheme='natural_breaks', \n",
    "            cmap='Blues', \n",
    "            legend=True)\n",
    "# leg = ax.get_legend()\n",
    "ax.set_xlim(-125, -65)\n",
    "ax.set_ylim(23, 50)\n",
    "ax.set(title=\"Kern County\")\n",
    "ax.axis(\"off\")\n",
    "plt.savefig('Kern_county_SCI_map.png');"
   ]
  },
  {
   "source": [
    "## Other Data Visualizations"
   ],
   "cell_type": "markdown",
   "metadata": {}
  },
  {
   "cell_type": "code",
   "execution_count": null,
   "metadata": {},
   "outputs": [],
   "source": [
    "# Histogram of Log SCI county pairs\n",
    "\n",
    "log_sci_hist = fb['log_sci']\n",
    "log_sci_hist = log_sci_hist.where(log_sci_hist > 0)\n",
    "\n",
    "f, ax = plt.subplots(figsize=(12, 5))\n",
    "sns.despine(f)\n",
    "\n",
    "sns.histplot(log_sci_hist, \n",
    "             color='#CB2A52'\n",
    "            )\n",
    "\n",
    "sns.set_style(\"white\")\n",
    "\n",
    "ax.set_ylim(0, 60000)\n",
    "ax.set_xlim(0, 7)\n",
    "ax.set_xlabel('log, SCI')\n",
    "ax.set_title('Distribution of County-County Pairs by log SCI',\n",
    "            size=18)\n",
    "plt.savefig('log_SCI_distribution.png', dpi=1200)\n",
    ";"
   ]
  },
  {
   "cell_type": "code",
   "execution_count": null,
   "metadata": {},
   "outputs": [],
   "source": [
    "# Box Plot of Log SCI county pairs\n",
    "\n",
    "plt.boxplot(fb['log_sci'])\n",
    "ax.ticklabel_format(useOffset=False, style='plain');"
   ]
  },
  {
   "source": [
    "# Graph Analysis"
   ],
   "cell_type": "markdown",
   "metadata": {}
  },
  {
   "source": [
    "## Data Cleaning"
   ],
   "cell_type": "markdown",
   "metadata": {}
  },
  {
   "cell_type": "code",
   "execution_count": null,
   "metadata": {},
   "outputs": [],
   "source": [
    "fb_ga = fb.copy()\n",
    "fb_ga"
   ]
  },
  {
   "cell_type": "code",
   "execution_count": null,
   "metadata": {},
   "outputs": [],
   "source": [
    "# create fb_ga quartiles for lower middle, and upper quartiles\n",
    "fb_ga.loc[fb_ga['log_sci'] <= fb_ga['log_sci'].quantile(.25), 'SCI_lower_25'] = '1'\n",
    "fb_ga.loc[fb_ga['log_sci'] >= fb_ga['log_sci'].quantile(.75), 'SCI_upper_25'] = '1'\n",
    "fb_ga.loc[(fb_ga['log_sci'] > fb_ga['log_sci'].quantile(.25)) & \\\n",
    "           (fb_ga['log_sci'] < fb_ga['log_sci'].quantile(.75)) , \\\n",
    "           'SCI_middle_50'] = '1'\n",
    "\n",
    "fb_ga_lower_25 = fb_ga[fb_ga.SCI_lower_25 == '1']\n",
    "fb_ga_middle_50 = fb_ga[fb_ga.SCI_middle_50 == '1']\n",
    "fb_ga_upper_25 = fb_ga[fb_ga.SCI_upper_25 == '1']"
   ]
  },
  {
   "cell_type": "code",
   "execution_count": null,
   "metadata": {},
   "outputs": [],
   "source": [
    "# Cleaning COVID datasets\n",
    "na_covid_cases = covid_h_raw.groupby('fips').max()\n",
    "na_covid_cases.reset_index(inplace=True)\n",
    "na_covid_cases.replace(\"\", np.nan, inplace=True)\n",
    "na_covid_cases.dropna(inplace=True)\n",
    "\n",
    "na_fips_pop_covid = fips_pop.set_index('FIPS').join(na_covid_cases.set_index('fips')).dropna()\n",
    "na_fips_pop_covid['cases_per_capita'] = na_fips_pop_covid['cases']/1000\n",
    "na_fips_pop_covid.sort_values('cases_per_capita').reset_index()"
   ]
  },
  {
   "source": [
    "## San Francisco, network"
   ],
   "cell_type": "markdown",
   "metadata": {}
  },
  {
   "cell_type": "code",
   "execution_count": null,
   "metadata": {},
   "outputs": [],
   "source": [
    "sf_county = fb[fb['user_loc'] == '06075']"
   ]
  },
  {
   "cell_type": "code",
   "execution_count": null,
   "metadata": {},
   "outputs": [],
   "source": [
    "g_sf = nx.from_pandas_edgelist(sf_county, \"user_loc\", \"fr_loc\", [\"scaled_sci\", \"log_sci\"])\n",
    "print('# of edges: {}'.format(g_sf.number_of_edges()))\n",
    "print('# of nodes: {}'.format(g_sf.number_of_nodes()))"
   ]
  },
  {
   "cell_type": "code",
   "execution_count": null,
   "metadata": {},
   "outputs": [],
   "source": [
    "lower_25_edges_sample = fb_ga_lower_25.sample(n=2000)\n",
    "lower_25_edges_sample.drop(labels=['SCI_lower_25', 'SCI_upper_25', 'SCI_middle_50'], axis=1, inplace=True)\n",
    "\n",
    "g_lower_25_sample = nx.from_pandas_edgelist(lower_25_edges_sample, \"user_loc\", \"fr_loc\", [\"scaled_sci\", \"log_sci\"])\n",
    "print('# of edges: {}'.format(g_lower_25_sample.number_of_edges()))\n",
    "print('# of nodes: {}'.format(g_lower_25_sample.number_of_nodes()))"
   ]
  },
  {
   "cell_type": "code",
   "execution_count": null,
   "metadata": {},
   "outputs": [],
   "source": [
    "# reset index of na_fips_pop_covid\n",
    "na_fips_pop_covid = na_fips_pop_covid.reset_index()\n",
    "\n",
    "# create nodelist from popdensci_join\n",
    "nodelist = na_fips_pop_covid.copy()\n",
    "nodelist = nodelist[['FIPS', 'cases_per_capita']]\n",
    "\n",
    "# convert node attributes in nodelist to dict\n",
    "node_attributes_sf = dict(zip(nodelist.FIPS, nodelist.cases_per_capita))"
   ]
  },
  {
   "source": [
    "## Kern County, Network"
   ],
   "cell_type": "markdown",
   "metadata": {}
  },
  {
   "cell_type": "code",
   "execution_count": null,
   "metadata": {},
   "outputs": [],
   "source": [
    "kern_county = fb[fb['user_loc'] == '06029']\n",
    "\n",
    "g_kern = nx.from_pandas_edgelist(kern_county, \"user_loc\", \"fr_loc\", [\"scaled_sci\", \"log_sci\"])\n",
    "print('# of edges: {}'.format(g_kern.number_of_edges()))\n",
    "print('# of nodes: {}'.format(g_kern.number_of_nodes()))\n",
    "\n",
    "# reset index of na_fips_pop_covid\n",
    "# na_fips_pop_covid = na_fips_pop_covid.reset_index()\n",
    "\n",
    "# create nodelist from popdensci_join\n",
    "nodelist = na_fips_pop_covid.copy()\n",
    "nodelist = nodelist[['FIPS', 'cases_per_capita']]\n",
    "\n",
    "# convert node attributes in nodelist to dict\n",
    "node_attributes_kern = dict(zip(nodelist.FIPS, nodelist.cases_per_capita))"
   ]
  },
  {
   "source": [
    "## SCI Quartile Exploration"
   ],
   "cell_type": "markdown",
   "metadata": {}
  },
  {
   "source": [
    "### Lower 25%"
   ],
   "cell_type": "markdown",
   "metadata": {}
  },
  {
   "cell_type": "code",
   "execution_count": null,
   "metadata": {},
   "outputs": [],
   "source": [
    "lower_25_edges_sample = fb_ga_lower_25.sample(n=2000)\n",
    "lower_25_edges_sample.drop(labels=['SCI_lower_25', 'SCI_upper_25', 'SCI_middle_50'], axis=1, inplace=True)\n",
    "\n",
    "g_lower_25_sample = nx.from_pandas_edgelist(lower_25_edges_sample, \"user_loc\", \"fr_loc\", [\"scaled_sci\", \"log_sci\"])\n",
    "print('# of edges: {}'.format(g_lower_25_sample.number_of_edges()))\n",
    "print('# of nodes: {}'.format(g_lower_25_sample.number_of_nodes()))"
   ]
  },
  {
   "cell_type": "code",
   "execution_count": null,
   "metadata": {},
   "outputs": [],
   "source": [
    "# reset index of na_fips_pop_covid\n",
    "# na_fips_pop_covid = na_fips_pop_covid.reset_index()\n",
    "\n",
    "# create nodelist from popdensci_join\n",
    "node_attributes_lower_25_sample = na_fips_pop_covid.copy()\n",
    "node_attributes_lower_25_sample = node_attributes_lower_25_sample[['FIPS', 'cases_per_capita']]\n",
    "\n",
    "# deduplicate nodelists by joining edgelist to it\n",
    "node_attributes_lower_25_sample = lower_25_edges_sample.set_index('user_loc').join(node_attributes_lower_25_sample.set_index('FIPS'))\n",
    "\n",
    "# convert node attributes in nodelist to dict\n",
    "node_attributes_lower_25_sample = dict(zip(node_attributes_lower_25_sample.fr_loc, node_attributes_lower_25_sample.cases_per_capita))"
   ]
  },
  {
   "cell_type": "code",
   "execution_count": null,
   "metadata": {},
   "outputs": [],
   "source": [
    "# Lower 25 Percentile\n",
    "\n",
    "plt.figure(figsize=(15, 12))\n",
    "# pos = nx.kamada_kawai_layout(g)\n",
    "nx.draw(g_lower_25_sample,\n",
    "        nodelist=node_attributes_lower_25_sample.keys(), \n",
    "        node_size=[v*5 for v in node_attributes_lower_25_sample.values()], \n",
    "        with_labels=False, \n",
    "        font_size=10, \n",
    "        width= [data['log_sci']/10 for node1, node2, data in g_lower_25_sample.edges(data=True)], \n",
    "        linewidths=0,\n",
    "        node_color = '#DA4167',\n",
    "        alpha=0.65)\n",
    "\n",
    "# plt.savefig('network_map_lower_50.png', dpi=1200)\n",
    "# plt.show()"
   ]
  },
  {
   "source": [
    "### Middle 50%"
   ],
   "cell_type": "markdown",
   "metadata": {}
  },
  {
   "cell_type": "code",
   "execution_count": null,
   "metadata": {},
   "outputs": [],
   "source": [
    "middle_50_edges_sample = fb_ga_middle_50.sample(n=2000)\n",
    "middle_50_edges_sample.drop(labels=['SCI_lower_25', 'SCI_upper_25', 'SCI_middle_50'], axis=1, inplace=True)\n",
    "\n",
    "g_middle_50_sample = nx.from_pandas_edgelist(middle_50_edges_sample, \"user_loc\", \"fr_loc\", [\"scaled_sci\", \"log_sci\"])\n",
    "print('# of edges: {}'.format(g_middle_50_sample.number_of_edges()))\n",
    "print('# of nodes: {}'.format(g_middle_50_sample.number_of_nodes()))"
   ]
  },
  {
   "cell_type": "code",
   "execution_count": null,
   "metadata": {},
   "outputs": [],
   "source": [
    "# reset index of na_fips_pop_covid\n",
    "# na_fips_pop_covid = na_fips_pop_covid.reset_index()\n",
    "\n",
    "# create nodelist from popdensci_join\n",
    "node_attributes_middle_50_sample = na_fips_pop_covid.copy()\n",
    "node_attributes_middle_50_sample = node_attributes_middle_50_sample[['FIPS', 'cases_per_capita']]\n",
    "\n",
    "# deduplicate nodelists by joining edgelist to it\n",
    "node_attributes_middle_50_sample = middle_50_edges_sample.set_index('user_loc').join(node_attributes_middle_50_sample.set_index('FIPS'))\n",
    "\n",
    "# convert node attributes in nodelist to dict\n",
    "node_attributes_middle_50_sample = dict(zip(node_attributes_middle_50_sample.fr_loc, node_attributes_middle_50_sample.cases_per_capita))"
   ]
  },
  {
   "cell_type": "code",
   "execution_count": null,
   "metadata": {},
   "outputs": [],
   "source": [
    "plt.figure(figsize=(15, 12))\n",
    "# pos = nx.kamada_kawai_layout(g)\n",
    "nx.draw(g_middle_50_sample,\n",
    "        nodelist=node_attributes_middle_50_sample.keys(), \n",
    "        node_size=[v*5 for v in node_attributes_middle_50_sample.values()], \n",
    "        with_labels=False, \n",
    "        font_size=10, \n",
    "        width= [data['log_sci']/10 for node1, node2, data in g_middle_50_sample.edges(data=True)], \n",
    "        linewidths=0,\n",
    "        node_color='#DA4167',\n",
    "        alpha=0.65)\n",
    "# plt.savefig('network_map_middle_50.png', dpi=1200)\n",
    "# plt.show();"
   ]
  },
  {
   "source": [
    "### Upper 25%"
   ],
   "cell_type": "markdown",
   "metadata": {}
  },
  {
   "cell_type": "code",
   "execution_count": null,
   "metadata": {},
   "outputs": [],
   "source": [
    "upper_25_edges_sample = fb_ga_upper_25.sample(n=2000)\n",
    "upper_25_edges_sample.drop(labels=['SCI_lower_25', 'SCI_upper_25', 'SCI_middle_50'], axis=1, inplace=True)\n",
    "\n",
    "g_upper_25_sample = nx.from_pandas_edgelist(upper_25_edges_sample, \"user_loc\", \"fr_loc\", [\"scaled_sci\", \"log_sci\"])\n",
    "print('# of edges: {}'.format(g_upper_25_sample.number_of_edges()))\n",
    "print('# of nodes: {}'.format(g_upper_25_sample.number_of_nodes()))\n",
    "\n",
    "# reset index of na_fips_pop_covid\n",
    "# na_fips_pop_covid = na_fips_pop_covid.reset_index()\n",
    "\n",
    "# create nodelist from popdensci_join\n",
    "node_attributes_upper_25_sample = na_fips_pop_covid.copy()\n",
    "node_attributes_upper_25_sample = node_attributes_upper_25_sample[['FIPS', 'cases_per_capita']]\n",
    "\n",
    "# deduplicate nodelists by joining edgelist to it\n",
    "node_attributes_upper_25_sample = upper_25_edges_sample.set_index('user_loc').join(node_attributes_upper_25_sample.set_index('FIPS'))\n",
    "\n",
    "# convert node attributes in nodelist to dict\n",
    "node_attributes_upper_25_sample = dict(zip(node_attributes_upper_25_sample.fr_loc, node_attributes_upper_25_sample.cases_per_capita))"
   ]
  },
  {
   "cell_type": "code",
   "execution_count": null,
   "metadata": {},
   "outputs": [],
   "source": [
    "plt.figure(figsize=(15, 12))\n",
    "# pos = nx.kamada_kawai_layout(g)\n",
    "nx.draw(g_upper_25_sample,\n",
    "        nodelist=node_attributes_upper_25_sample.keys(), \n",
    "        node_size=[v*5 for v in node_attributes_upper_25_sample.values()], \n",
    "        with_labels=False, \n",
    "        font_size=10, \n",
    "        width= [data['log_sci']/10 for node1, node2, data in g_upper_25_sample.edges(data=True)], \n",
    "        linewidths=0,\n",
    "        node_color='#DA4167',\n",
    "        alpha=0.75)\n",
    "\n",
    "# plt.show()\n",
    "# plt.savefig('network_map_upper_25.png', dpi=1200)"
   ]
  },
  {
   "source": [
    "# Hypothesis Testing"
   ],
   "cell_type": "markdown",
   "metadata": {}
  },
  {
   "source": [
    "After taking a sample of upper SCI quartile counties, is the average number of COVID cases per capita significantly greater than the population mean?"
   ],
   "cell_type": "markdown",
   "metadata": {}
  },
  {
   "source": [
    "1. Formulate hypotheses\n",
    "\n",
    "$H_0$: High SCI counties have no difference in number of covid cases/capita than lower SCI counties.\n",
    "\n",
    "$H_a$: High SCI counties have a significantly different number of covid cases/capita than lower SCI counties.\n",
    "\n",
    "2. Choose a significance level\n",
    "\n",
    "$\\alpha = 0.05$ \n",
    "\n",
    "3. Choose a statistical test, find the test statistic\n",
    "\n",
    "- two tailed t test\n",
    "\n",
    "- $\\bar{X}$ = \n",
    "\n",
    "4. Compute probability of results assuming the null hypothesis is true\n",
    "\n",
    "- outputs the p value\n",
    "\n",
    "5. Compare p-value to alpha to draw conclusion\n",
    "\n",
    "- p <= alpha, reject null in favor of the alternative\n",
    "- p > alpha, fail to reject the null"
   ],
   "cell_type": "markdown",
   "metadata": {}
  },
  {
   "source": [
    "\n",
    "3a. calculate sample mean from size n, calculate sample standard deviation\n",
    "\n",
    "3b. calculate z statistic - \n",
    "sample mean - population mean / (pop standard deviation / sqroot of n)\n",
    "\n"
   ],
   "cell_type": "markdown",
   "metadata": {}
  },
  {
   "cell_type": "code",
   "execution_count": null,
   "metadata": {},
   "outputs": [],
   "source": [
    "# upper\n",
    "\n",
    "# sample from upper SCI counties\n",
    "ht_ga_upper_25_sample = fb_ga_upper_25.sample(n=300)\n",
    "\n",
    "# drop duplicates\n",
    "ht_ga_upper_25_sample = ht_ga_upper_25_sample.drop_duplicates('user_loc')\n",
    "\n",
    "# container of sample upper quartile SCI counties + COVID/capita\n",
    "ht_ga_upper_25_sample = ht_ga_upper_25_sample.set_index('user_loc').join(na_fips_pop_covid.set_index('FIPS'))\n",
    "\n",
    "# drop nas\n",
    "ht_ga_upper_25_sample_ttest = ht_ga_upper_25_sample['cases_per_capita'].dropna()\n",
    "\n",
    "# container of average cases/capita\n",
    "ht_ga_upper_25_sample_ttest.count()"
   ]
  },
  {
   "cell_type": "code",
   "execution_count": null,
   "metadata": {},
   "outputs": [],
   "source": [
    "# lower\n",
    "\n",
    "# sample from lower SCI counties\n",
    "ht_ga_lower_25_sample = fb_ga_lower_25.sample(n=300)\n",
    "\n",
    "# drop duplicates\n",
    "ht_ga_lower_25_sample = ht_ga_lower_25_sample.drop_duplicates('user_loc')\n",
    "\n",
    "# container of sample lower quartile SCI counties + COVID/capita\n",
    "ht_ga_lower_25_sample = ht_ga_lower_25_sample.set_index('user_loc').join(na_fips_pop_covid.set_index('FIPS'))\n",
    "\n",
    "# drop nas\n",
    "ht_ga_lower_25_sample_ttest = ht_ga_lower_25_sample['cases_per_capita'].dropna()\n",
    "\n",
    "# container of average cases/capita\n",
    "ht_ga_lower_25_sample_ttest.count()"
   ]
  },
  {
   "cell_type": "code",
   "execution_count": null,
   "metadata": {},
   "outputs": [],
   "source": [
    "# two-tailed t test\n",
    "\n",
    "from scipy import stats\n",
    "stats.ttest_ind(ht_ga_lower_25_sample_ttest, ht_ga_upper_25_sample_ttest, axis=0, nan_policy='propagate')"
   ]
  },
  {
   "cell_type": "code",
   "execution_count": null,
   "metadata": {},
   "outputs": [],
   "source": [
    "# population mean COVID cases/capita\n",
    "pop_mean = na_fips_pop_covid['cases_per_capita'].mean()\n",
    "print(f\"Population mean: {na_fips_pop_covid['cases_per_capita'].mean():.2f}\")\n",
    "\n",
    "# population standard deviation COVID cases/capita\n",
    "pop_std = na_fips_pop_covid['cases_per_capita'].std()\n",
    "print(f\"Population standard deviation: {na_fips_pop_covid['cases_per_capita'].std():.2f}\")\n",
    "\n",
    "# sample mean of COVID cases/capita\n",
    "sample_mean = ht_ga_upper_25_sample['cases_per_capita'].mean()\n",
    "print(f\"Sample mean: {ht_ga_upper_25_sample['cases_per_capita'].mean():.2f}\")\n",
    "\n",
    "# sample standard deviation\n",
    "sample_std = ht_ga_upper_25_sample['cases_per_capita'].std()\n",
    "print(f\"Sample standard deviation: {ht_ga_upper_25_sample['cases_per_capita'].std():.2f}\")\n",
    "\n",
    "# z score\n",
    "z_score = sample_mean-pop_mean/(pop_std/np.sqrt(300))\n",
    "print(f\"z score: {sample_mean-pop_mean/(pop_std/np.sqrt(300)):.2f}\")\n",
    "\n",
    "# p value\n",
    "import scipy.stats as st\n",
    "print(f\"p-value: {st.norm.pdf(z_score):.2f}\")"
   ]
  },
  {
   "cell_type": "code",
   "execution_count": null,
   "metadata": {},
   "outputs": [],
   "source": []
  }
 ]
}