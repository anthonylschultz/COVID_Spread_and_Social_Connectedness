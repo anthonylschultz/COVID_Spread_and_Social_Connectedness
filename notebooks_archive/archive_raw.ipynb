{
 "cells": [
  {
   "cell_type": "code",
   "execution_count": null,
   "metadata": {},
   "outputs": [],
   "source": [
    "import pandas as pd\n",
    "pd.set_option('display.max_rows', 999)\n",
    "import numpy as np\n",
    "import matplotlib.pyplot as plt\n",
    "%matplotlib inline\n",
    "import seaborn as sns\n",
    "import networkx as nx\n",
    "import geopandas"
   ]
  },
  {
   "cell_type": "markdown",
   "metadata": {},
   "source": [
    "# **Exploratory Data Analysis**"
   ]
  },
  {
   "cell_type": "code",
   "execution_count": null,
   "metadata": {},
   "outputs": [],
   "source": [
    "# read in data\n",
    "covid_f_raw = pd.read_csv('data/covid_forecast_2020-12-03.csv')\n",
    "covid_h_raw = pd.read_csv('data/COVID_historical_us-counties.csv',\n",
    "                         converters={'fips': lambda x: str(x)})"
   ]
  },
  {
   "cell_type": "code",
   "execution_count": null,
   "metadata": {},
   "outputs": [],
   "source": [
    "census_raw = pd.read_csv('data/2010_census_pop.csv',\n",
    "                    converters={'Zip Code ZCTA': lambda x: str(x)})\n",
    "pop_den_raw = pd.read_csv('data/uszips_pop_density.csv',\n",
    "                     converters={'zip': lambda x: str(x)})\n",
    "fips_pop = pd.read_csv('data/fips_population.csv',\n",
    "                      converters={'FIPS': lambda x: str(x)})"
   ]
  },
  {
   "cell_type": "code",
   "execution_count": null,
   "metadata": {},
   "outputs": [],
   "source": [
    "fb = pd.read_table('data/county_county_aug2020.tsv', \n",
    "                   converters={'user_loc': lambda x: str(x), \n",
    "                               'fr_loc': lambda x: str(x)})"
   ]
  },
  {
   "cell_type": "code",
   "execution_count": null,
   "metadata": {},
   "outputs": [],
   "source": [
    "zips_fips_raw = pd.read_csv('data/zips_fips.csv',\n",
    "                           converters={'ZIP': lambda x: str(x),\n",
    "                                      'STCOUNTYFP': lambda x: str(x)})"
   ]
  },
  {
   "cell_type": "code",
   "execution_count": null,
   "metadata": {},
   "outputs": [],
   "source": [
    "us_map = geopandas.read_file('data/map_1/cb_2018_us_county_20m.shp')"
   ]
  },
  {
   "cell_type": "code",
   "execution_count": null,
   "metadata": {},
   "outputs": [],
   "source": [
    "sf_county['GEOID'] = sf_county['fr_loc']"
   ]
  },
  {
   "cell_type": "code",
   "execution_count": null,
   "metadata": {},
   "outputs": [],
   "source": [
    "sf_map = us_map.merge(sf_county, on='GEOID')"
   ]
  },
  {
   "cell_type": "code",
   "execution_count": null,
   "metadata": {},
   "outputs": [],
   "source": [
    "sf_map"
   ]
  },
  {
   "cell_type": "code",
   "execution_count": null,
   "metadata": {},
   "outputs": [],
   "source": [
    "fig, ax = plt.subplots(figsize=(20, 15))\n",
    "sf_map.plot(ax=ax, column='scaled_sci', \n",
    "            scheme='percentiles', \n",
    "            cmap='OrRd', \n",
    "            legend=True)\n",
    "# leg = ax.get_legend()\n",
    "ax.set_xlim(-125, -65)\n",
    "ax.set_ylim(23, 50)\n",
    "ax.set(title=\"Counties Connected to San Francisco, scaled by Social Connectedness Indicator\")\n",
    "ax.axis(\"off\")\n",
    ";"
   ]
  },
  {
   "cell_type": "code",
   "execution_count": null,
   "metadata": {},
   "outputs": [],
   "source": []
  },
  {
   "cell_type": "code",
   "execution_count": null,
   "metadata": {},
   "outputs": [],
   "source": [
    "kern_county['GEOID'] = kern_county['fr_loc']"
   ]
  },
  {
   "cell_type": "code",
   "execution_count": null,
   "metadata": {},
   "outputs": [],
   "source": [
    "kern_map = us_map.merge(kern_county, on='GEOID')"
   ]
  },
  {
   "cell_type": "code",
   "execution_count": null,
   "metadata": {},
   "outputs": [],
   "source": [
    "fig, ax = plt.subplots(figsize=(20, 15))\n",
    "kern_map.plot(ax=ax, column='scaled_sci', \n",
    "            scheme='box_plot', \n",
    "            cmap='OrRd', \n",
    "            legend=True)\n",
    "# leg = ax.get_legend()\n",
    "ax.set_xlim(-125, -65)\n",
    "ax.set_ylim(23, 50)\n",
    "ax.set(title=\"Counties Connected to San Francisco, scaled by Social Connectedness Indicator\")\n",
    "ax.axis(\"off\")\n",
    ";"
   ]
  },
  {
   "cell_type": "code",
   "execution_count": null,
   "metadata": {},
   "outputs": [],
   "source": [
    "fig, (ax1, ax2) = plt.subplots(nrows=1, ncols=2, figsize=(25, 20))\n",
    "ax1 = sf_map.plot(ax=ax1, column='log_sci', cmap='Blues', scheme='natural_breaks')\n",
    "ax2 = kern_map.plot(ax=ax2, column='log_sci', cmap='Blues', scheme='natural_breaks', legend=True)\n",
    "ax1.set(title=\"San Francisco County\")\n",
    "ax2.set(title=\"Kern County\")\n",
    "ax1.set_xlim(-125, -65)\n",
    "ax1.set_ylim(23, 50)\n",
    "ax2.set_xlim(-125, -65)\n",
    "ax2.set_ylim(23, 50)\n",
    "ax1.axis(\"off\")\n",
    "ax2.axis(\"off\")\n",
    "plt.savefig('SCI_map.png')\n",
    ";"
   ]
  },
  {
   "cell_type": "markdown",
   "metadata": {},
   "source": [
    "two plots"
   ]
  },
  {
   "cell_type": "code",
   "execution_count": null,
   "metadata": {},
   "outputs": [],
   "source": [
    "fig, ax = plt.subplots(figsize=(20, 15))\n",
    "sf_map.plot(ax=ax, column='log_sci', \n",
    "            scheme='natural_breaks', \n",
    "            cmap='Blues', \n",
    "            legend=True)\n",
    "# leg = ax.get_legend()\n",
    "ax.set_xlim(-125, -65)\n",
    "ax.set_ylim(23, 50)\n",
    "ax.set(title=\"San Francisco County\")\n",
    "ax.axis(\"off\")\n",
    "plt.savefig('SF_county_SCI_map.png');"
   ]
  },
  {
   "cell_type": "code",
   "execution_count": null,
   "metadata": {},
   "outputs": [],
   "source": [
    "fig, ax = plt.subplots(figsize=(20, 15))\n",
    "kern_map.plot(ax=ax, column='log_sci', \n",
    "            scheme='natural_breaks', \n",
    "            cmap='Blues', \n",
    "            legend=True)\n",
    "# leg = ax.get_legend()\n",
    "ax.set_xlim(-125, -65)\n",
    "ax.set_ylim(23, 50)\n",
    "ax.set(title=\"Kern County\")\n",
    "ax.axis(\"off\")\n",
    "plt.savefig('Kern_county_SCI_map.png');"
   ]
  },
  {
   "cell_type": "code",
   "execution_count": null,
   "metadata": {},
   "outputs": [],
   "source": []
  },
  {
   "cell_type": "code",
   "execution_count": null,
   "metadata": {},
   "outputs": [],
   "source": []
  },
  {
   "cell_type": "code",
   "execution_count": null,
   "metadata": {},
   "outputs": [],
   "source": []
  },
  {
   "cell_type": "markdown",
   "metadata": {},
   "source": [
    "\n",
    "________________________________________________"
   ]
  },
  {
   "cell_type": "code",
   "execution_count": null,
   "metadata": {},
   "outputs": [],
   "source": []
  },
  {
   "cell_type": "code",
   "execution_count": null,
   "metadata": {},
   "outputs": [],
   "source": [
    "sf_map = geopandas.read_file('data/map_1/cb_2018_us_county_20m.shp')\n",
    "fig, ax = plt.subplots(figsize=(20, 15))\n",
    "us_map.plot(ax=ax, alpha=1)\n",
    "\n",
    "# minx, miny, maxx, maxy = states.total_bounds\n",
    "ax.set_xlim(-125, -65)\n",
    "ax.set_ylim(23, 50)"
   ]
  },
  {
   "cell_type": "markdown",
   "metadata": {},
   "source": [
    "**Areas of interest**\n",
    "\n",
    "```\n",
    "Challenges:\n",
    "1) large dataset\n",
    "- use random samples or duplicates?\n",
    "2) dispersion of data -> challenging to work with\n",
    "- use log transformation?\n",
    "\n",
    "Notes\n",
    "- how to treat counties?  Have to treat them in pairs or singularly?\n",
    "- some counties are dropped because of low fb users\n",
    "- SCI formula\n",
    "- upscaling/downscaling from fips pop to zip pop to derive cases/zip\n",
    "\n",
    "How to wrangle data:\n",
    "1) Take random sample from population ~ 1 million rows\n",
    "2) Remove duplicates ~ 5 million rows\n",
    "\n",
    "Data Cleaning\n",
    "1) add zeros to four digit zip codes - won't do\n",
    "2) add population data by zip code - done\n",
    "3) normalize cases/per capita - not started\n",
    "4) dataset of cities and zip code - not started\n",
    "5) added log transformation field - done\n",
    "\n",
    "Views of Analysis:\n",
    "- two buckets - high/low - won't do\n",
    "- stratified buckets - 5 or more? \n",
    "\n",
    "EDA - questions to answer\n",
    "The Basics\n",
    "- Are zip links directional? - done\n",
    "- What are the highest/smallest SCI indices, by zip? - done\n",
    "    -> create histogram of distribution of SCI indices - done\n",
    "- distribution of SCI indices? - done \n",
    "- What's the range of SCI indices? - done\n",
    "- How many zip pairs are there? - done\n",
    "- Average scaled_sci per zip? Zips with highest, lowest scaled_sci? - done, won't do\n",
    "- view of zip and average SCI - done\n",
    "\n",
    "How does the SCI relate to population? Do we see higher SCIs in zips with greater populations?\n",
    "1a) SCI vs population, all zips - DONE\n",
    "scatterplot of zip codes with dependent variable as SCI, independent variable as pop\n",
    "1b) SCI vs population/sq kilometer - DONE\n",
    "2) SCI vs population, grouped zips by population buckets\n",
    "- What range does SCI take over various population buckets?\n",
    "\n",
    "Additional Data Cleaning\n",
    "- mapping of FIPs to ZIPs\n",
    "- conversion of FIPs and ZIPs to dtype object vs int\n",
    "\n",
    "Overall Trends - COVID vs SCI\n",
    "1) SCI vs total COVID cases - DONE\n",
    "2) SCI vs total COVID deaths - DONE\n",
    "\n",
    "Historical spread of COVID, relationship to SCI - timeseries\n",
    "1) How does the historical spread rate of COVID differ between counties with high SCI scores and those with low SCI scores?\n",
    "\n",
    "Future spread of COVID, relationship to SCI\n",
    "- Do prediction models indicate counties with higher SCIs will get more cases?\n",
    "\n",
    "Can I provide a recommendation to public health experts on potential areas of spread?\n",
    "\n",
    "Hypothesis testing\n",
    "- Is the incidence of COVID between zip pairs with high SCI significantly different than the incidence of COVID between zip pairs with low SCI?\n",
    "\n",
    "Questions\n",
    "- How am I defining the incidence of COVID? Spread? total number of cases? growth rate over time?\n",
    "- Recommendations/audience definition\n",
    "\n",
    "Extra Credit\n",
    "Network graph approach \n",
    "- how should network analysis be used as a tool to fight disease spread?\n",
    "1) Which nodes (zip codes) have the highest number of connections to other nodes (zip codes)? \n",
    "1a) Which nodes w/highest covid spread have highest number of connections to other high disease nodes? \n",
    "* edges would be scaled for a minimum SCI\n",
    "* degree centrality\n",
    "\n",
    "GIS graphs\n",
    "- sample two counties - show maps of SCI\n",
    "\n",
    "Story:\n",
    "How does a ZIP's SCI impact itself?\n",
    "0) What SCI is\n",
    "1) Distribution of SCI\n",
    "- average\n",
    "2) SCI vs Population\n",
    "- examples\n",
    "3) SCI vs COVID\n",
    "- muted trends\n",
    "- maybe covid is too widespread to notice any significant differences?\n",
    "4) SCI vs COVID timeseries\n",
    "\n",
    "How does a ZIP's SCI impact other ZIPs?\n",
    "\n",
    "\n",
    "\n",
    "data sources:\n",
    "covid_forecast_2020-12-03.csv - nytimes\n",
    "COVID_historical_us-counties.csv - nytimes\n",
    "fb_SCI_county_county_aug2020.tsv - facebook data for good\n",
    "2010_census_pop.csv - US Census Bureau \n",
    "uszips_pop_density.csv - https://simplemaps.com/data/us-zips\n",
    "zip-county-fips - https://www.kaggle.com/danofer/zipcodes-county-fips-crosswalk\n",
    "2019 census estimate - https://www.ers.usda.gov/data-products/county-level-data-sets/download-data/\n",
    "\n",
    "c_historical = pd.read_csv('data/COVID_historical_us-counties.csv')\n",
    "fb_sci = pd.read_csv('data/fb_SCI_county_county_aug2020.tsv', sep='\\t')\n",
    "census = pd.read_csv('data/2010_census_pop.csv')\n",
    "pop_den = uszips_pop_density.csv\n",
    "zip_fips = zips_fips.csv\n",
    "```\n"
   ]
  },
  {
   "cell_type": "markdown",
   "metadata": {},
   "source": [
    "## Data Cleaning"
   ]
  },
  {
   "cell_type": "code",
   "execution_count": null,
   "metadata": {},
   "outputs": [],
   "source": [
    "# create \n",
    "fb['log_sci'] = np.log10(fb['scaled_sci'])"
   ]
  },
  {
   "cell_type": "code",
   "execution_count": null,
   "metadata": {},
   "outputs": [],
   "source": [
    "# create population density table\n",
    "pop_den = pop_den_raw[['zip', 'density']]\n",
    "pop_den"
   ]
  },
  {
   "cell_type": "code",
   "execution_count": null,
   "metadata": {},
   "outputs": [],
   "source": [
    "pop_den"
   ]
  },
  {
   "cell_type": "markdown",
   "metadata": {},
   "source": [
    "## EDA - questions to answer"
   ]
  },
  {
   "cell_type": "markdown",
   "metadata": {},
   "source": [
    "### The Basics"
   ]
  },
  {
   "cell_type": "markdown",
   "metadata": {},
   "source": [
    "**Are zip links directional?**"
   ]
  },
  {
   "cell_type": "code",
   "execution_count": null,
   "metadata": {},
   "outputs": [],
   "source": [
    "fb['scaled_sci']"
   ]
  },
  {
   "cell_type": "markdown",
   "metadata": {},
   "source": [
    "**What are the min and max SCIs?**"
   ]
  },
  {
   "cell_type": "code",
   "execution_count": null,
   "metadata": {},
   "outputs": [],
   "source": [
    "fb['scaled_sci'].describe().astype(int)"
   ]
  },
  {
   "cell_type": "markdown",
   "metadata": {},
   "source": [
    "**What is the distribution of SCI indices?**"
   ]
  },
  {
   "cell_type": "code",
   "execution_count": null,
   "metadata": {},
   "outputs": [],
   "source": [
    "fb.median()"
   ]
  },
  {
   "cell_type": "code",
   "execution_count": null,
   "metadata": {},
   "outputs": [],
   "source": [
    "plt.hist(fb['log_sci'], bins=50);"
   ]
  },
  {
   "cell_type": "code",
   "execution_count": null,
   "metadata": {},
   "outputs": [],
   "source": [
    "log_sci_hist = fb['log_sci']"
   ]
  },
  {
   "cell_type": "code",
   "execution_count": null,
   "metadata": {},
   "outputs": [],
   "source": [
    "log_sci_hist = log_sci_hist.where(log_sci_hist > 0)"
   ]
  },
  {
   "cell_type": "code",
   "execution_count": null,
   "metadata": {},
   "outputs": [],
   "source": [
    "log_sci_hist"
   ]
  },
  {
   "cell_type": "code",
   "execution_count": null,
   "metadata": {},
   "outputs": [],
   "source": [
    "f, ax = plt.subplots(figsize=(12, 5))\n",
    "sns.despine(f)\n",
    "\n",
    "sns.histplot(log_sci_hist, \n",
    "             color='#CB2A52'\n",
    "            )\n",
    "\n",
    "sns.set_style(\"white\")\n",
    "\n",
    "ax.set_ylim(0, 60000)\n",
    "ax.set_xlim(0, 7)\n",
    "ax.set_xlabel('log, SCI')\n",
    "ax.set_title('Distribution of County-County Pairs by log SCI',\n",
    "            size=18)\n",
    "plt.savefig('log_SCI_distribution.png', dpi=1200)\n",
    ";\n",
    "\n"
   ]
  },
  {
   "cell_type": "code",
   "execution_count": null,
   "metadata": {},
   "outputs": [],
   "source": [
    "fig, ax = plt.subplots(figsize=(12, 5))\n",
    "counts, bins, patches = ax.hist(fb['scaled_sci'], bins=5000)\n",
    "ax.set_ylim(0, 50000)\n",
    "ax.set_xlim(0, 10000000)\n",
    "ax.ticklabel_format(useOffset=False, style='plain')"
   ]
  },
  {
   "cell_type": "code",
   "execution_count": null,
   "metadata": {},
   "outputs": [],
   "source": [
    "plt.boxplot(fb['log_sci'])\n",
    "ax.ticklabel_format(useOffset=False, style='plain');"
   ]
  },
  {
   "cell_type": "markdown",
   "metadata": {},
   "source": [
    "**Average scaled_sci per zip?**"
   ]
  },
  {
   "cell_type": "code",
   "execution_count": null,
   "metadata": {},
   "outputs": [],
   "source": [
    "fb.columns"
   ]
  },
  {
   "cell_type": "code",
   "execution_count": null,
   "metadata": {},
   "outputs": [],
   "source": [
    "fb.groupby(by='user_loc').sum('scaled_sci').astype(int).sort_values(by='log_sci')"
   ]
  },
  {
   "cell_type": "code",
   "execution_count": null,
   "metadata": {},
   "outputs": [],
   "source": [
    "fb.sort_values(by='scaled_sci')"
   ]
  },
  {
   "cell_type": "markdown",
   "metadata": {},
   "source": [
    "### How does the SCI relate to population?"
   ]
  },
  {
   "cell_type": "markdown",
   "metadata": {},
   "source": [
    "#### SCI vs Population"
   ]
  },
  {
   "cell_type": "code",
   "execution_count": null,
   "metadata": {},
   "outputs": [],
   "source": [
    "census_raw"
   ]
  },
  {
   "cell_type": "code",
   "execution_count": null,
   "metadata": {},
   "outputs": [],
   "source": [
    "census_join = census_raw.set_index('Zip Code ZCTA').join(fb.set_index('user_loc'))\n",
    "cen_re = census_join.reset_index().dropna(axis=0).drop(columns='fr_loc').groupby(by='index').mean('scaled_sci')\n",
    "cen_re.rename(columns={'index':'user_zip', '2010 Census Population': 'pop'}, inplace=True)"
   ]
  },
  {
   "cell_type": "code",
   "execution_count": null,
   "metadata": {},
   "outputs": [],
   "source": [
    "cen_re.reset_index()"
   ]
  },
  {
   "cell_type": "code",
   "execution_count": null,
   "metadata": {},
   "outputs": [],
   "source": [
    "x = cen_re['pop']\n",
    "y = cen_re['scaled_sci']"
   ]
  },
  {
   "cell_type": "code",
   "execution_count": null,
   "metadata": {},
   "outputs": [],
   "source": [
    "fig, ax = plt.subplots(1, 1, figsize=(12, 5))\n",
    "plt.scatter(x, y, alpha=.1, color='dodgerblue')\n",
    "ax.set_ylabel('Mean SCI')\n",
    "ax.set_xlabel('Population')\n",
    "ax.set_title('Mean SCI vs. Population')"
   ]
  },
  {
   "cell_type": "markdown",
   "metadata": {},
   "source": [
    "#### SCI vs Population, log transformation"
   ]
  },
  {
   "cell_type": "code",
   "execution_count": null,
   "metadata": {},
   "outputs": [],
   "source": [
    "cen_re['log_sci'] = np.log10(cen_re['scaled_sci'])"
   ]
  },
  {
   "cell_type": "code",
   "execution_count": null,
   "metadata": {},
   "outputs": [],
   "source": [
    "x = cen_re['pop']\n",
    "y = cen_re['log_sci']"
   ]
  },
  {
   "cell_type": "code",
   "execution_count": null,
   "metadata": {},
   "outputs": [],
   "source": [
    "fig, ax = plt.subplots(1, 1, figsize=(12, 5))\n",
    "plt.scatter(x, y, alpha=.1, color='dodgerblue')\n",
    "ax.set_ylabel('Mean SCI, log')\n",
    "ax.set_xlabel('Population')\n",
    "ax.set_title('Mean log SCI vs. Population');"
   ]
  },
  {
   "cell_type": "markdown",
   "metadata": {},
   "source": [
    "#### SCI (log transformation) vs Population/sq km"
   ]
  },
  {
   "cell_type": "code",
   "execution_count": null,
   "metadata": {},
   "outputs": [],
   "source": [
    "popdensci = cen_re.join(pop_den.set_index('zip'))"
   ]
  },
  {
   "cell_type": "code",
   "execution_count": null,
   "metadata": {},
   "outputs": [],
   "source": [
    "x = popdensci['density']\n",
    "y = popdensci['log_sci']\n",
    "\n",
    "fig, ax = plt.subplots(1, 1, figsize=(12, 5))\n",
    "plt.scatter(x, y, alpha=.1, color='dodgerblue')\n",
    "ax.set_ylabel('SCI, log')\n",
    "ax.set_xlabel('Population Density')\n",
    "ax.set_title('SCI log vs. Population Density ')\n",
    ";"
   ]
  },
  {
   "cell_type": "markdown",
   "metadata": {},
   "source": [
    "### SCI vs total COVID cases"
   ]
  },
  {
   "cell_type": "markdown",
   "metadata": {},
   "source": [
    "#### Data Cleaning"
   ]
  },
  {
   "cell_type": "code",
   "execution_count": null,
   "metadata": {},
   "outputs": [],
   "source": [
    "# grouping covid cases by fips\n",
    "covid_h = covid_h_raw.groupby('fips').max()\n",
    "# tables used below:\n",
    "## popdensci, zips_fips_raw, covid_h"
   ]
  },
  {
   "cell_type": "code",
   "execution_count": null,
   "metadata": {},
   "outputs": [],
   "source": [
    "covid_h"
   ]
  },
  {
   "cell_type": "code",
   "execution_count": null,
   "metadata": {},
   "outputs": [],
   "source": [
    "popdensci_join"
   ]
  },
  {
   "cell_type": "code",
   "execution_count": null,
   "metadata": {},
   "outputs": [],
   "source": [
    "covid_h = covid_h.reset_index()"
   ]
  },
  {
   "cell_type": "code",
   "execution_count": null,
   "metadata": {},
   "outputs": [],
   "source": [
    "covid_h['fips'].replace('', np.nan, inplace=True)\n",
    "covid_h = covid_h.dropna()\n",
    "popdensci_join = popdensci.join(zips_fips_raw.set_index('ZIP')).reset_index().sort_values('STCOUNTYFP')\n",
    "popdensci_join = popdensci_join.dropna()\n",
    "popdensci_join = popdensci_join.rename(columns={'index':'zips', 'STCOUNTYFP':'fips'})\n",
    "popdensci_join = popdensci_join.set_index('fips')\n",
    "popdensci_join = popdensci_join.join(covid_h.set_index('fips'))"
   ]
  },
  {
   "cell_type": "code",
   "execution_count": null,
   "metadata": {},
   "outputs": [],
   "source": [
    "popdensci_join = popdensci_join.reset_index()"
   ]
  },
  {
   "cell_type": "code",
   "execution_count": null,
   "metadata": {},
   "outputs": [],
   "source": [
    "# upscaling/downscaling data\n",
    "popdensci_join['fip_pop'] = popdensci_join['pop'].groupby(popdensci_join['fips']).transform('sum')\n",
    "popdensci_join['zip_pop_percent'] = popdensci_join['pop']/popdensci_join['fip_pop']\n",
    "popdensci_join['cases_per_zip'] = popdensci_join['zip_pop_percent'] * popdensci_join['cases']\n",
    "popdensci_join['deaths_per_zip'] = popdensci_join['zip_pop_percent'] * popdensci_join['deaths']\n",
    "popdensci_join['cases_per_capita'] = popdensci_join['cases_per_zip'] / popdensci_join['deaths']\n"
   ]
  },
  {
   "cell_type": "code",
   "execution_count": null,
   "metadata": {},
   "outputs": [],
   "source": [
    "x = popdensci_join['log_sci']\n",
    "y = popdensci_join['cases']\n",
    "\n",
    "\n",
    "fig, ax = plt.subplots(1, 1, figsize=(12, 5))\n",
    "plt.scatter(x, y, alpha=.1, color='dodgerblue')\n",
    "ax.set_xlabel('SCI, log')\n",
    "ax.set_ylabel('COVID Cases')\n",
    "ax.set_title('SCI log vs. COVID Cases')\n",
    "# ax.set_ylim(0, 25)\n",
    ";"
   ]
  },
  {
   "cell_type": "code",
   "execution_count": null,
   "metadata": {},
   "outputs": [],
   "source": [
    "x = popdensci_join['log_sci']\n",
    "y = popdensci_join['deaths_per_zip']\n",
    "\n",
    "\n",
    "fig, ax = plt.subplots(1, 1, figsize=(12, 5))\n",
    "plt.scatter(x, y, alpha=.1, color='dodgerblue')\n",
    "ax.set_xlabel('SCI, log')\n",
    "ax.set_ylabel('COVID Deaths')\n",
    "ax.set_title('SCI log vs. COVID Deaths')\n",
    "ax.set_ylim(0, 100)\n",
    ";"
   ]
  },
  {
   "cell_type": "code",
   "execution_count": null,
   "metadata": {},
   "outputs": [],
   "source": [
    "x = popdensci_join['log_sci']\n",
    "y = popdensci_join['cases_per_capita']\n",
    "\n",
    "\n",
    "fig, ax = plt.subplots(1, 1, figsize=(12, 5))\n",
    "plt.scatter(x, y, alpha=.1, color='dodgerblue')\n",
    "ax.set_xlabel('SCI, log')\n",
    "ax.set_ylabel('COVID Cases per Capita')\n",
    "ax.set_title('SCI log vs. COVID Cases per Capita')\n",
    "ax.set_ylim(0, 100)\n",
    ";"
   ]
  },
  {
   "cell_type": "markdown",
   "metadata": {},
   "source": [
    "### SCI vs COVID cases, timeseries"
   ]
  },
  {
   "cell_type": "markdown",
   "metadata": {},
   "source": [
    "#### Data Cleaning"
   ]
  },
  {
   "cell_type": "code",
   "execution_count": null,
   "metadata": {},
   "outputs": [],
   "source": [
    "# copy cen_re into new df\n",
    "# create SCI quantile groups\n",
    "cen_re_timeseries = cen_re.copy()\n",
    "cen_re_timeseries.loc[cen_re_timeseries['log_sci'] <= cen_re_timeseries['log_sci'].quantile(.25), 'SCI_lower_25'] = '1'\n",
    "cen_re_timeseries.loc[cen_re_timeseries['log_sci'] >= cen_re_timeseries['log_sci'].quantile(.75), 'SCI_upper_25'] = '1'\n",
    "cen_re_timeseries.loc[(cen_re_timeseries['log_sci'] > cen_re_timeseries['log_sci'].quantile(.25)) & \\\n",
    "           (cen_re_timeseries['log_sci'] < cen_re_timeseries['log_sci'].quantile(.75)) , \\\n",
    "           'SCI_middle_50'] = '1'\n",
    "\n",
    "# join cen_re_timeseries to zips/fips mapping and covid_h_raw\n",
    "cen_re_timeseries = cen_re_timeseries.reset_index().rename(columns={'index':'zip'})\n",
    "cen_re_timeseries = cen_re_timeseries.set_index('zip').join(zips_fips_raw.set_index('ZIP')).reset_index().rename(columns={'index':'zip'})\n",
    "cen_re_timeseries = cen_re_timeseries.set_index('STCOUNTYFP').join(covid_h_raw.set_index('fips'))"
   ]
  },
  {
   "cell_type": "code",
   "execution_count": null,
   "metadata": {},
   "outputs": [],
   "source": [
    "# cen_re_timeseries = cen_re_timeseries.drop(columns=['pop', 'CLASSFP'])"
   ]
  },
  {
   "cell_type": "code",
   "execution_count": null,
   "metadata": {},
   "outputs": [],
   "source": [
    "cen_re_timeseries"
   ]
  },
  {
   "cell_type": "code",
   "execution_count": null,
   "metadata": {},
   "outputs": [],
   "source": [
    "middle_50 = cen_re_timeseries.loc[cen_re_timeseries['SCI_middle_50'] == '1'].groupby(['date']).mean('cases')\n",
    "middle_50 = middle_50.drop(columns=['scaled_sci', 'log_sci', 'deaths', 'pop']).rename(columns={'cases':'middle_50'})\n",
    "\n",
    "lower_25 = cen_re_timeseries.loc[cen_re_timeseries['SCI_lower_25'] == '1'].groupby('date').mean('cases')\n",
    "lower_25 = lower_25.drop(columns=['scaled_sci', 'log_sci', 'deaths', 'pop']).rename(columns={'cases':'lower_25'})\n",
    "\n",
    "upper_25 = cen_re_timeseries.loc[cen_re_timeseries['SCI_upper_25'] == '1'].groupby('date').mean('cases')\n",
    "upper_25 = upper_25.drop(columns=['scaled_sci', 'log_sci', 'deaths', 'pop']).rename(columns={'cases':'upper_25'})\n",
    "\n",
    "quadrants = pd.concat([lower_25, middle_50, upper_25], axis=1)\n",
    "\n",
    "quadrants = quadrants.sort_index()\n"
   ]
  },
  {
   "cell_type": "code",
   "execution_count": null,
   "metadata": {},
   "outputs": [],
   "source": [
    "quadrants.plot.line(figsize=(18,10));"
   ]
  },
  {
   "cell_type": "markdown",
   "metadata": {},
   "source": [
    "__________________________________"
   ]
  },
  {
   "cell_type": "markdown",
   "metadata": {},
   "source": [
    "# Graph Analysis"
   ]
  },
  {
   "cell_type": "markdown",
   "metadata": {},
   "source": [
    "## Data Cleaning"
   ]
  },
  {
   "cell_type": "code",
   "execution_count": null,
   "metadata": {},
   "outputs": [],
   "source": [
    "'''\n",
    "0) data clean - get a clean list of fips <-> population, pop density, cases, cases/capita - DONE\n",
    "1a) Intro - what is a node vs edge\n",
    "1b) Describe node sizing, edge sizing\n",
    "1c) Example: San Francisco connections to other zips vs rural county to other zips -> population density as a node attributes\n",
    "EDIT: change san francisco and Kern county example to only include counties w/SCI greater than a certain threshold\n",
    "2) Bucket by SCI quadrant -> lower 25%, middle 50%, upper 25%\n",
    "- create quadrants in fb - done\n",
    "- create new fb_ dataframes - done\n",
    "- random sample new fb_ dataframes - done\n",
    "- plot new fb_ dataframes - done\n",
    "- calculate stats for each quadrant -> covid cases, connectedness, degree\n",
    "\n",
    "3) Hypothesis testing - test the idea that higher SCIs are more connected and have higher rates of covid spread\n",
    "\n",
    "4) Quantitative measures - shortest path, connectedness, eigenvector\n",
    "'''"
   ]
  },
  {
   "cell_type": "code",
   "execution_count": null,
   "metadata": {},
   "outputs": [],
   "source": [
    "# na_covid_cases\n",
    "# na_fips_pop_covid # final table of fips <> pop <> cases <> cases_per_capita <> deaths\n",
    "# sf_county # sf county to fips SCI\n",
    "# kern_county # kern county to fips SCI\n",
    "# fb_ga_lower_25\n",
    "# fb_ga_middle_50\n",
    "# fb_ga_upper_25\n",
    "fb_ga = fb.copy()"
   ]
  },
  {
   "cell_type": "code",
   "execution_count": null,
   "metadata": {},
   "outputs": [],
   "source": [
    "fb_ga"
   ]
  },
  {
   "cell_type": "code",
   "execution_count": null,
   "metadata": {},
   "outputs": [],
   "source": [
    "# create fb_ga quartiles for lower middle, and upper quartiles\n",
    "fb_ga.loc[fb_ga['log_sci'] <= fb_ga['log_sci'].quantile(.25), 'SCI_lower_25'] = '1'\n",
    "fb_ga.loc[fb_ga['log_sci'] >= fb_ga['log_sci'].quantile(.75), 'SCI_upper_25'] = '1'\n",
    "fb_ga.loc[(fb_ga['log_sci'] > fb_ga['log_sci'].quantile(.25)) & \\\n",
    "           (fb_ga['log_sci'] < fb_ga['log_sci'].quantile(.75)) , \\\n",
    "           'SCI_middle_50'] = '1'\n",
    "\n",
    "fb_ga_lower_25 = fb_ga[fb_ga.SCI_lower_25 == '1']\n",
    "fb_ga_middle_50 = fb_ga[fb_ga.SCI_middle_50 == '1']\n",
    "fb_ga_upper_25 = fb_ga[fb_ga.SCI_upper_25 == '1']"
   ]
  },
  {
   "cell_type": "code",
   "execution_count": null,
   "metadata": {},
   "outputs": [],
   "source": [
    "fb_ga_lower_25"
   ]
  },
  {
   "cell_type": "code",
   "execution_count": null,
   "metadata": {},
   "outputs": [],
   "source": [
    "# Cleaning COVID datasets\n",
    "na_covid_cases = covid_h_raw.groupby('fips').max()\n",
    "na_covid_cases.reset_index(inplace=True)\n",
    "na_covid_cases.replace(\"\", np.nan, inplace=True)\n",
    "na_covid_cases.dropna(inplace=True)"
   ]
  },
  {
   "cell_type": "code",
   "execution_count": null,
   "metadata": {},
   "outputs": [],
   "source": [
    "na_fips_pop_covid = fips_pop.set_index('FIPS').join(na_covid_cases.set_index('fips')).dropna()"
   ]
  },
  {
   "cell_type": "code",
   "execution_count": null,
   "metadata": {},
   "outputs": [],
   "source": [
    "na_fips_pop_covid['cases_per_capita'] = na_fips_pop_covid['cases']/1000"
   ]
  },
  {
   "cell_type": "code",
   "execution_count": null,
   "metadata": {},
   "outputs": [],
   "source": [
    "na_fips_pop_covid.sort_values('cases_per_capita').reset_index()"
   ]
  },
  {
   "cell_type": "code",
   "execution_count": null,
   "metadata": {},
   "outputs": [],
   "source": []
  },
  {
   "cell_type": "markdown",
   "metadata": {},
   "source": [
    "## Intro - San Francisco, network"
   ]
  },
  {
   "cell_type": "code",
   "execution_count": null,
   "metadata": {},
   "outputs": [],
   "source": [
    "sf_county = fb[fb['user_loc'] == '06075']"
   ]
  },
  {
   "cell_type": "code",
   "execution_count": null,
   "metadata": {},
   "outputs": [],
   "source": [
    "sf_county"
   ]
  },
  {
   "cell_type": "code",
   "execution_count": null,
   "metadata": {},
   "outputs": [],
   "source": [
    "g_sf = nx.from_pandas_edgelist(sf_county, \"user_loc\", \"fr_loc\", [\"scaled_sci\", \"log_sci\"])\n",
    "print('# of edges: {}'.format(g_sf.number_of_edges()))\n",
    "print('# of nodes: {}'.format(g_sf.number_of_nodes()))"
   ]
  },
  {
   "cell_type": "code",
   "execution_count": null,
   "metadata": {},
   "outputs": [],
   "source": [
    "# reset index of na_fips_pop_covid\n",
    "na_fips_pop_covid = na_fips_pop_covid.reset_index()\n",
    "\n",
    "# create nodelist from popdensci_join\n",
    "nodelist = na_fips_pop_covid.copy()\n",
    "nodelist = nodelist[['FIPS', 'cases_per_capita']]"
   ]
  },
  {
   "cell_type": "code",
   "execution_count": null,
   "metadata": {},
   "outputs": [],
   "source": [
    "nodelist"
   ]
  },
  {
   "cell_type": "code",
   "execution_count": null,
   "metadata": {},
   "outputs": [],
   "source": [
    "# deduplicate nodelists by joining edgelist to it\n",
    "# node_attributes = sf_county.join(nodelist)"
   ]
  },
  {
   "cell_type": "code",
   "execution_count": null,
   "metadata": {},
   "outputs": [],
   "source": [
    "# convert node attributes in nodelist to dict\n",
    "node_attributes_sf = dict(zip(nodelist.FIPS, nodelist.cases_per_capita))"
   ]
  },
  {
   "cell_type": "code",
   "execution_count": null,
   "metadata": {},
   "outputs": [],
   "source": [
    "plt.figure(figsize=(15, 12))\n",
    "pos = nx.kamada_kawai_layout(g_sf)\n",
    "nx.draw(g_sf,\n",
    "        pos,\n",
    "        nodelist=node_attributes_sf.keys(), \n",
    "        node_size=[v for v in node_attributes_sf.values()], \n",
    "        with_labels=False, \n",
    "        font_size=10, \n",
    "        width= [data['scaled_sci']/50000 for node1, node2, data in g_sf.edges(data=True)], \n",
    "        linewidths=0,\n",
    "        alpha=0.65)\n",
    "\n",
    "plt.show()"
   ]
  },
  {
   "cell_type": "markdown",
   "metadata": {},
   "source": [
    "## Intro - Kern County, network"
   ]
  },
  {
   "cell_type": "code",
   "execution_count": null,
   "metadata": {},
   "outputs": [],
   "source": [
    "kern_county = fb[fb['user_loc'] == '06029']"
   ]
  },
  {
   "cell_type": "code",
   "execution_count": null,
   "metadata": {},
   "outputs": [],
   "source": [
    "g_kern = nx.from_pandas_edgelist(kern_county, \"user_loc\", \"fr_loc\", [\"scaled_sci\", \"log_sci\"])\n",
    "print('# of edges: {}'.format(g_kern.number_of_edges()))\n",
    "print('# of nodes: {}'.format(g_kern.number_of_nodes()))"
   ]
  },
  {
   "cell_type": "code",
   "execution_count": null,
   "metadata": {},
   "outputs": [],
   "source": [
    "# reset index of na_fips_pop_covid\n",
    "# na_fips_pop_covid = na_fips_pop_covid.reset_index()\n",
    "\n",
    "# create nodelist from popdensci_join\n",
    "nodelist = na_fips_pop_covid.copy()\n",
    "nodelist = nodelist[['FIPS', 'cases_per_capita']]"
   ]
  },
  {
   "cell_type": "code",
   "execution_count": null,
   "metadata": {},
   "outputs": [],
   "source": [
    "# convert node attributes in nodelist to dict\n",
    "node_attributes_kern = dict(zip(nodelist.FIPS, nodelist.cases_per_capita))"
   ]
  },
  {
   "cell_type": "code",
   "execution_count": null,
   "metadata": {},
   "outputs": [],
   "source": [
    "plt.figure(figsize=(15, 12))\n",
    "pos = nx.kamada_kawai_layout(g_kern)\n",
    "nx.draw(g_kern,\n",
    "        pos,\n",
    "        nodelist=node_attributes_kern.keys(), \n",
    "        node_size=[v for v in node_attributes_kern.values()], \n",
    "        with_labels=False, \n",
    "        font_size=10, \n",
    "        width= [data['scaled_sci']/50000 for node1, node2, data in g_kern.edges(data=True)], \n",
    "        linewidths=0,\n",
    "        alpha=0.65)\n",
    "\n",
    "plt.show()"
   ]
  },
  {
   "cell_type": "code",
   "execution_count": null,
   "metadata": {},
   "outputs": [],
   "source": []
  },
  {
   "cell_type": "markdown",
   "metadata": {},
   "source": []
  },
  {
   "cell_type": "code",
   "execution_count": null,
   "metadata": {},
   "outputs": [],
   "source": []
  },
  {
   "cell_type": "markdown",
   "metadata": {},
   "source": [
    "## SCI Quantile Exploration"
   ]
  },
  {
   "cell_type": "markdown",
   "metadata": {},
   "source": [
    "### Lower 25%"
   ]
  },
  {
   "cell_type": "code",
   "execution_count": null,
   "metadata": {},
   "outputs": [],
   "source": [
    "fb_ga_lower_25"
   ]
  },
  {
   "cell_type": "code",
   "execution_count": null,
   "metadata": {},
   "outputs": [],
   "source": [
    "lower_25_edges_sample = fb_ga_lower_25.sample(n=2000)"
   ]
  },
  {
   "cell_type": "code",
   "execution_count": null,
   "metadata": {},
   "outputs": [],
   "source": [
    "lower_25_edges_sample.drop(labels=['SCI_lower_25', 'SCI_upper_25', 'SCI_middle_50'], axis=1, inplace=True)"
   ]
  },
  {
   "cell_type": "code",
   "execution_count": null,
   "metadata": {},
   "outputs": [],
   "source": [
    "lower_25_edges_sample"
   ]
  },
  {
   "cell_type": "code",
   "execution_count": null,
   "metadata": {},
   "outputs": [],
   "source": [
    "g_lower_25_sample = nx.from_pandas_edgelist(lower_25_edges_sample, \"user_loc\", \"fr_loc\", [\"scaled_sci\", \"log_sci\"])\n",
    "print('# of edges: {}'.format(g_lower_25_sample.number_of_edges()))\n",
    "print('# of nodes: {}'.format(g_lower_25_sample.number_of_nodes()))"
   ]
  },
  {
   "cell_type": "code",
   "execution_count": null,
   "metadata": {},
   "outputs": [],
   "source": [
    "na_fips_pop_covid"
   ]
  },
  {
   "cell_type": "code",
   "execution_count": null,
   "metadata": {},
   "outputs": [],
   "source": [
    "# reset index of na_fips_pop_covid\n",
    "# na_fips_pop_covid = na_fips_pop_covid.reset_index()\n",
    "\n",
    "# create nodelist from popdensci_join\n",
    "node_attributes_lower_25_sample = na_fips_pop_covid.copy()\n",
    "node_attributes_lower_25_sample = node_attributes_lower_25_sample[['FIPS', 'cases_per_capita']]"
   ]
  },
  {
   "cell_type": "code",
   "execution_count": null,
   "metadata": {},
   "outputs": [],
   "source": [
    "node_attributes_lower_25_sample['cases_per_capita'].max()"
   ]
  },
  {
   "cell_type": "code",
   "execution_count": null,
   "metadata": {},
   "outputs": [],
   "source": [
    "# deduplicate nodelists by joining edgelist to it\n",
    "node_attributes_lower_25_sample = lower_25_edges_sample.set_index('user_loc').join(node_attributes_lower_25_sample.set_index('FIPS'))"
   ]
  },
  {
   "cell_type": "code",
   "execution_count": null,
   "metadata": {},
   "outputs": [],
   "source": [
    "node_attributes_lower_25_sample"
   ]
  },
  {
   "cell_type": "code",
   "execution_count": null,
   "metadata": {},
   "outputs": [],
   "source": [
    "# convert node attributes in nodelist to dict\n",
    "node_attributes_lower_25_sample = dict(zip(node_attributes_lower_25_sample.fr_loc, node_attributes_lower_25_sample.cases_per_capita))"
   ]
  },
  {
   "cell_type": "code",
   "execution_count": null,
   "metadata": {},
   "outputs": [],
   "source": [
    "plt.figure(figsize=(15, 12))\n",
    "# pos = nx.kamada_kawai_layout(g)\n",
    "nx.draw(g_lower_25_sample,\n",
    "        nodelist=node_attributes_lower_25_sample.keys(), \n",
    "        node_size=[v*5 for v in node_attributes_lower_25_sample.values()], \n",
    "        with_labels=False, \n",
    "        font_size=10, \n",
    "        width= [data['log_sci']/10 for node1, node2, data in g_lower_25_sample.edges(data=True)], \n",
    "        linewidths=0,\n",
    "        node_color = '#DA4167',\n",
    "        alpha=0.65)\n",
    "\n",
    "plt.savefig('network_map_lower_50.png', dpi=1200)\n",
    "# plt.show()"
   ]
  },
  {
   "cell_type": "markdown",
   "metadata": {},
   "source": [
    "### Middle 50%"
   ]
  },
  {
   "cell_type": "code",
   "execution_count": null,
   "metadata": {},
   "outputs": [],
   "source": [
    "middle_50_sample"
   ]
  },
  {
   "cell_type": "code",
   "execution_count": null,
   "metadata": {},
   "outputs": [],
   "source": [
    "middle_50_edges_sample = fb_ga_middle_50.sample(n=2000)"
   ]
  },
  {
   "cell_type": "code",
   "execution_count": null,
   "metadata": {},
   "outputs": [],
   "source": [
    "middle_50_edges_sample.drop(labels=['SCI_lower_25', 'SCI_upper_25', 'SCI_middle_50'], axis=1, inplace=True)"
   ]
  },
  {
   "cell_type": "code",
   "execution_count": null,
   "metadata": {},
   "outputs": [],
   "source": [
    "middle_50_edges_sample"
   ]
  },
  {
   "cell_type": "code",
   "execution_count": null,
   "metadata": {},
   "outputs": [],
   "source": [
    "g_middle_50_sample = nx.from_pandas_edgelist(middle_50_edges_sample, \"user_loc\", \"fr_loc\", [\"scaled_sci\", \"log_sci\"])\n",
    "print('# of edges: {}'.format(g_middle_50_sample.number_of_edges()))\n",
    "print('# of nodes: {}'.format(g_middle_50_sample.number_of_nodes()))"
   ]
  },
  {
   "cell_type": "code",
   "execution_count": null,
   "metadata": {},
   "outputs": [],
   "source": [
    "na_fips_pop_covid"
   ]
  },
  {
   "cell_type": "code",
   "execution_count": null,
   "metadata": {},
   "outputs": [],
   "source": [
    "# reset index of na_fips_pop_covid\n",
    "# na_fips_pop_covid = na_fips_pop_covid.reset_index()\n",
    "\n",
    "# create nodelist from popdensci_join\n",
    "node_attributes_middle_50_sample = na_fips_pop_covid.copy()\n",
    "node_attributes_middle_50_sample = node_attributes_middle_50_sample[['FIPS', 'cases_per_capita']]"
   ]
  },
  {
   "cell_type": "code",
   "execution_count": null,
   "metadata": {},
   "outputs": [],
   "source": [
    "# deduplicate nodelists by joining edgelist to it\n",
    "node_attributes_middle_50_sample = middle_50_edges_sample.set_index('user_loc').join(node_attributes_middle_50_sample.set_index('FIPS'))"
   ]
  },
  {
   "cell_type": "code",
   "execution_count": null,
   "metadata": {},
   "outputs": [],
   "source": [
    "# convert node attributes in nodelist to dict\n",
    "node_attributes_middle_50_sample = dict(zip(node_attributes_middle_50_sample.fr_loc, node_attributes_middle_50_sample.cases_per_capita))"
   ]
  },
  {
   "cell_type": "code",
   "execution_count": null,
   "metadata": {},
   "outputs": [],
   "source": [
    "plt.figure(figsize=(15, 12))\n",
    "# pos = nx.kamada_kawai_layout(g)\n",
    "nx.draw(g_middle_50_sample,\n",
    "        nodelist=node_attributes_middle_50_sample.keys(), \n",
    "        node_size=[v*5 for v in node_attributes_middle_50_sample.values()], \n",
    "        with_labels=False, \n",
    "        font_size=10, \n",
    "        width= [data['log_sci']/10 for node1, node2, data in g_middle_50_sample.edges(data=True)], \n",
    "        linewidths=0,\n",
    "        node_color='#DA4167',\n",
    "        alpha=0.65)\n",
    "plt.savefig('network_map_middle_50.png', dpi=1200)\n",
    "# plt.show()\n",
    ";"
   ]
  },
  {
   "cell_type": "code",
   "execution_count": null,
   "metadata": {},
   "outputs": [],
   "source": []
  },
  {
   "cell_type": "code",
   "execution_count": null,
   "metadata": {},
   "outputs": [],
   "source": []
  },
  {
   "cell_type": "code",
   "execution_count": null,
   "metadata": {},
   "outputs": [],
   "source": []
  },
  {
   "cell_type": "markdown",
   "metadata": {},
   "source": [
    "### Upper 25%"
   ]
  },
  {
   "cell_type": "code",
   "execution_count": null,
   "metadata": {},
   "outputs": [],
   "source": [
    "upper_25_edges_sample = fb_ga_upper_25.sample(n=2000)"
   ]
  },
  {
   "cell_type": "code",
   "execution_count": null,
   "metadata": {},
   "outputs": [],
   "source": [
    "upper_25_edges_sample.drop(labels=['SCI_lower_25', 'SCI_upper_25', 'SCI_middle_50'], axis=1, inplace=True)"
   ]
  },
  {
   "cell_type": "code",
   "execution_count": null,
   "metadata": {},
   "outputs": [],
   "source": [
    "upper_25_edges_sample"
   ]
  },
  {
   "cell_type": "code",
   "execution_count": null,
   "metadata": {},
   "outputs": [],
   "source": [
    "g_upper_25_sample = nx.from_pandas_edgelist(upper_25_edges_sample, \"user_loc\", \"fr_loc\", [\"scaled_sci\", \"log_sci\"])\n",
    "print('# of edges: {}'.format(g_upper_25_sample.number_of_edges()))\n",
    "print('# of nodes: {}'.format(g_upper_25_sample.number_of_nodes()))"
   ]
  },
  {
   "cell_type": "code",
   "execution_count": null,
   "metadata": {},
   "outputs": [],
   "source": [
    "na_fips_pop_covid"
   ]
  },
  {
   "cell_type": "code",
   "execution_count": null,
   "metadata": {},
   "outputs": [],
   "source": [
    "# reset index of na_fips_pop_covid\n",
    "# na_fips_pop_covid = na_fips_pop_covid.reset_index()\n",
    "\n",
    "# create nodelist from popdensci_join\n",
    "node_attributes_upper_25_sample = na_fips_pop_covid.copy()\n",
    "node_attributes_upper_25_sample = node_attributes_upper_25_sample[['FIPS', 'cases_per_capita']]"
   ]
  },
  {
   "cell_type": "code",
   "execution_count": null,
   "metadata": {},
   "outputs": [],
   "source": [
    "# deduplicate nodelists by joining edgelist to it\n",
    "node_attributes_upper_25_sample = upper_25_edges_sample.set_index('user_loc').join(node_attributes_upper_25_sample.set_index('FIPS'))"
   ]
  },
  {
   "cell_type": "code",
   "execution_count": null,
   "metadata": {},
   "outputs": [],
   "source": [
    "node_attributes_upper_25_sample['cases_per_capita'].max()"
   ]
  },
  {
   "cell_type": "code",
   "execution_count": null,
   "metadata": {},
   "outputs": [],
   "source": [
    "# convert node attributes in nodelist to dict\n",
    "node_attributes_upper_25_sample = dict(zip(node_attributes_upper_25_sample.fr_loc, node_attributes_upper_25_sample.cases_per_capita))"
   ]
  },
  {
   "cell_type": "code",
   "execution_count": null,
   "metadata": {},
   "outputs": [],
   "source": [
    "plt.figure(figsize=(15, 12))\n",
    "# pos = nx.kamada_kawai_layout(g)\n",
    "nx.draw(g_upper_25_sample,\n",
    "        nodelist=node_attributes_upper_25_sample.keys(), \n",
    "        node_size=[v*5 for v in node_attributes_upper_25_sample.values()], \n",
    "        with_labels=False, \n",
    "        font_size=10, \n",
    "        width= [data['log_sci']/10 for node1, node2, data in g_upper_25_sample.edges(data=True)], \n",
    "        linewidths=0,\n",
    "        node_color='#DA4167',\n",
    "        alpha=0.75)\n",
    "\n",
    "# plt.show()\n",
    "plt.savefig('network_map_upper_25.png', dpi=1200)"
   ]
  },
  {
   "cell_type": "code",
   "execution_count": null,
   "metadata": {},
   "outputs": [],
   "source": []
  },
  {
   "cell_type": "markdown",
   "metadata": {},
   "source": [
    "## Hypothesis Testing"
   ]
  },
  {
   "cell_type": "markdown",
   "metadata": {},
   "source": [
    "After taking a sample of upper SCI quartile counties, is the average number of COVID cases per capita significantly greater than the population mean?"
   ]
  },
  {
   "cell_type": "markdown",
   "metadata": {},
   "source": [
    "1. Formulate hypotheses\n",
    "\n",
    "$H_0$: High SCI counties have no difference in number of covid cases/capita than lower SCI counties.\n",
    "\n",
    "$H_a$: High SCI counties have a significantly different number of covid cases/capita than lower SCI counties.\n",
    "\n",
    "2. Choose a significance level\n",
    "\n",
    "$\\alpha = 0.05$ \n",
    "\n",
    "3. Choose a statistical test, find the test statistic\n",
    "\n",
    "- two tailed t test\n",
    "\n",
    "- $\\bar{X}$ = \n",
    "\n",
    "4. Compute probability of results assuming the null hypothesis is true\n",
    "\n",
    "- outputs the p value\n",
    "\n",
    "5. Compare p-value to alpha to draw conclusion\n",
    "\n",
    "- p <= alpha, reject null in favor of the alternative\n",
    "- p > alpha, fail to reject the null"
   ]
  },
  {
   "cell_type": "markdown",
   "metadata": {},
   "source": [
    "\n",
    "3a. calculate sample mean from size n, calculate sample standard deviation\n",
    "\n",
    "3b. calculate z statistic - \n",
    "sample mean - population mean / (pop standard deviation / sqroot of n)\n",
    "\n"
   ]
  },
  {
   "cell_type": "code",
   "execution_count": null,
   "metadata": {},
   "outputs": [],
   "source": [
    "# upper\n",
    "\n",
    "# sample from upper SCI counties\n",
    "ht_ga_upper_25_sample = fb_ga_upper_25.sample(n=300)\n",
    "\n",
    "# drop duplicates\n",
    "ht_ga_upper_25_sample = ht_ga_upper_25_sample.drop_duplicates('user_loc')\n",
    "\n",
    "# container of sample upper quartile SCI counties + COVID/capita\n",
    "ht_ga_upper_25_sample = ht_ga_upper_25_sample.set_index('user_loc').join(na_fips_pop_covid.set_index('FIPS'))\n",
    "\n",
    "# drop nas\n",
    "ht_ga_upper_25_sample_ttest = ht_ga_upper_25_sample['cases_per_capita'].dropna()\n",
    "\n",
    "# container of average cases/capita\n",
    "ht_ga_upper_25_sample_ttest.count()"
   ]
  },
  {
   "cell_type": "code",
   "execution_count": null,
   "metadata": {},
   "outputs": [],
   "source": [
    "# lower\n",
    "\n",
    "# sample from lower SCI counties\n",
    "ht_ga_lower_25_sample = fb_ga_lower_25.sample(n=300)\n",
    "\n",
    "# drop duplicates\n",
    "ht_ga_lower_25_sample = ht_ga_lower_25_sample.drop_duplicates('user_loc')\n",
    "\n",
    "# container of sample lower quartile SCI counties + COVID/capita\n",
    "ht_ga_lower_25_sample = ht_ga_lower_25_sample.set_index('user_loc').join(na_fips_pop_covid.set_index('FIPS'))\n",
    "\n",
    "# drop nas\n",
    "ht_ga_lower_25_sample_ttest = ht_ga_lower_25_sample['cases_per_capita'].dropna()\n",
    "\n",
    "# container of average cases/capita\n",
    "ht_ga_lower_25_sample_ttest.count()"
   ]
  },
  {
   "cell_type": "code",
   "execution_count": null,
   "metadata": {},
   "outputs": [],
   "source": [
    "# two-tailed t test\n",
    "\n",
    "from scipy import stats\n",
    "scipy.stats.ttest_ind(ht_ga_lower_25_sample_ttest, ht_ga_upper_25_sample_ttest, axis=0, nan_policy='propagate')"
   ]
  },
  {
   "cell_type": "code",
   "execution_count": null,
   "metadata": {},
   "outputs": [],
   "source": [
    "ht_ga_lower_25"
   ]
  },
  {
   "cell_type": "code",
   "execution_count": null,
   "metadata": {},
   "outputs": [],
   "source": [
    "# container of lower quartile SCI counties\n",
    "ht_ga_lower_25 = fb_ga_lower_25.drop_duplicates('user_loc')\n",
    "\n",
    "# container of sample of upper quartile SCI counties\n",
    "ht_ga_upper_25_sample = ht_ga_upper_25.sample(n=300)"
   ]
  },
  {
   "cell_type": "code",
   "execution_count": null,
   "metadata": {},
   "outputs": [],
   "source": [
    "# container of upper quartile SCI counties\n",
    "ht_ga_upper_25 = fb_ga_upper_25.drop_duplicates('user_loc')\n",
    "\n",
    "# container of sample of upper quartile SCI counties\n",
    "ht_ga_upper_25_sample = ht_ga_upper_25.sample(n=300)"
   ]
  },
  {
   "cell_type": "code",
   "execution_count": null,
   "metadata": {},
   "outputs": [],
   "source": [
    "ht_ga_upper_25_sample.head()"
   ]
  },
  {
   "cell_type": "code",
   "execution_count": null,
   "metadata": {},
   "outputs": [],
   "source": []
  },
  {
   "cell_type": "code",
   "execution_count": null,
   "metadata": {},
   "outputs": [],
   "source": [
    "# container of sample upper quartile SCI counties + COVID/capita\n",
    "ht_ga_upper_25_sample = ht_ga_upper_25_sample.set_index('user_loc').join(na_fips_pop_covid.set_index('FIPS'))"
   ]
  },
  {
   "cell_type": "code",
   "execution_count": null,
   "metadata": {},
   "outputs": [],
   "source": [
    "ht_ga_upper_25_sample.head()"
   ]
  },
  {
   "cell_type": "code",
   "execution_count": null,
   "metadata": {},
   "outputs": [],
   "source": [
    "# population mean COVID cases/capita\n",
    "pop_mean = na_fips_pop_covid['cases_per_capita'].mean()\n",
    "print(f\"Population mean: {na_fips_pop_covid['cases_per_capita'].mean():.2f}\")\n",
    "\n",
    "# population standard deviation COVID cases/capita\n",
    "pop_std = na_fips_pop_covid['cases_per_capita'].std()\n",
    "print(f\"Population standard deviation: {na_fips_pop_covid['cases_per_capita'].std():.2f}\")\n",
    "\n",
    "# sample mean of COVID cases/capita\n",
    "sample_mean = ht_ga_upper_25_sample['cases_per_capita'].mean()\n",
    "print(f\"Sample mean: {ht_ga_upper_25_sample['cases_per_capita'].mean():.2f}\")\n",
    "\n",
    "# sample standard deviation\n",
    "sample_std = ht_ga_upper_25_sample['cases_per_capita'].std()\n",
    "print(f\"Sample standard deviation: {ht_ga_upper_25_sample['cases_per_capita'].std():.2f}\")\n",
    "\n",
    "# z score\n",
    "z_score = sample_mean-pop_mean/(pop_std/np.sqrt(300))\n",
    "print(f\"z score: {sample_mean-pop_mean/(pop_std/np.sqrt(300)):.2f}\")\n",
    "\n",
    "# p value\n",
    "import scipy.stats as st\n",
    "print(f\"p-value: {st.norm.pdf(z_score):.2f}\")"
   ]
  },
  {
   "cell_type": "code",
   "execution_count": null,
   "metadata": {},
   "outputs": [],
   "source": [
    "f, ax = plt.subplots(figsize=(12, 5))\n",
    "sns.despine(f)\n",
    "\n",
    "sns.histplot(ht_ga_upper_25_sample['cases_per_capita'],\n",
    "             bins=100,\n",
    "             color='#DA4167'\n",
    "            )\n",
    "\n",
    "sns.set_style(\"white\")\n",
    "\n",
    "ax.set_ylim(0, 100)\n",
    "ax.set_xlim(0, 50)\n",
    "ax.set_xlabel('log, SCI')\n",
    "ax.set_title('Distribution of County-County Pairs by log SCI',\n",
    "            size=18)\n",
    ";\n"
   ]
  },
  {
   "cell_type": "code",
   "execution_count": null,
   "metadata": {},
   "outputs": [],
   "source": [
    "ht_ga_upper_25_sample.head()"
   ]
  },
  {
   "cell_type": "code",
   "execution_count": null,
   "metadata": {},
   "outputs": [],
   "source": []
  },
  {
   "cell_type": "code",
   "execution_count": null,
   "metadata": {},
   "outputs": [],
   "source": []
  },
  {
   "cell_type": "code",
   "execution_count": null,
   "metadata": {},
   "outputs": [],
   "source": []
  },
  {
   "cell_type": "markdown",
   "metadata": {},
   "source": [
    "___________________________________________________________________________________________________________________"
   ]
  },
  {
   "cell_type": "code",
   "execution_count": null,
   "metadata": {},
   "outputs": [],
   "source": [
    "plotlist = fb.sample(n=2000)"
   ]
  },
  {
   "cell_type": "code",
   "execution_count": null,
   "metadata": {},
   "outputs": [],
   "source": [
    "# import edge list from pandas dataframe plotlist\n",
    "g = nx.from_pandas_edgelist(plotlist, \"user_loc\", \"fr_loc\", [\"scaled_sci\", \"log_sci\"])\n",
    "print('# of edges: {}'.format(g.number_of_edges()))\n",
    "print('# of nodes: {}'.format(g.number_of_nodes()))"
   ]
  },
  {
   "cell_type": "code",
   "execution_count": null,
   "metadata": {},
   "outputs": [],
   "source": [
    "# reset index of na_fips_pop_covid\n",
    "# na_fips_pop_covid = na_fips_pop_covid.reset_index()\n",
    "\n",
    "# create nodelist from popdensci_join\n",
    "nodelist = na_fips_pop_covid.copy()\n",
    "nodelist = nodelist[['FIPS', 'cases_per_capita']]"
   ]
  },
  {
   "cell_type": "code",
   "execution_count": null,
   "metadata": {},
   "outputs": [],
   "source": [
    "# deduplicate nodelists by joining edgelist to it\n",
    "nodelist = plotlist.set_index('user_loc').join(nodelist.set_index('FIPS'))"
   ]
  },
  {
   "cell_type": "code",
   "execution_count": null,
   "metadata": {},
   "outputs": [],
   "source": [
    "# convert node attributes in nodelist to dict\n",
    "node_attributes = dict(zip(nodelist.fr_loc, nodelist.cases_per_capita))"
   ]
  },
  {
   "cell_type": "code",
   "execution_count": null,
   "metadata": {},
   "outputs": [],
   "source": [
    "plt.figure(figsize=(15, 12))\n",
    "# pos = nx.kamada_kawai_layout(g)\n",
    "nx.draw(g,\n",
    "        nodelist=node_attributes.keys(), \n",
    "        node_size=[v*5 for v in node_attributes.values()], \n",
    "        with_labels=False, \n",
    "        font_size=10, \n",
    "        width= [data['log_sci']/4 for node1, node2, data in g.edges(data=True)], \n",
    "        linewidths=0,\n",
    "        alpha=0.65)\n",
    "\n",
    "plt.show()"
   ]
  },
  {
   "cell_type": "code",
   "execution_count": null,
   "metadata": {},
   "outputs": [],
   "source": [
    "plt.figure(figsize=(15, 12))\n",
    "# pos = nx.kamada_kawai_layout(g)\n",
    "nx.draw(g,\n",
    "        nodelist=node_attributes.keys(), \n",
    "        node_size=[v/15 for v in node_attributes.values()], \n",
    "        with_labels=False, \n",
    "        font_size=10, \n",
    "        width= [data['log_sci']/2 for node1, node2, data in g.edges(data=True) if data['log_sci'] > 4], \n",
    "        linewidths=0,\n",
    "        alpha=0.65)\n",
    "\n",
    "plt.show()"
   ]
  },
  {
   "cell_type": "markdown",
   "metadata": {},
   "source": [
    "____________________________________________________________"
   ]
  },
  {
   "cell_type": "code",
   "execution_count": null,
   "metadata": {},
   "outputs": [],
   "source": [
    "print('# of edges: {}'.format(G.number_of_edges()))\n",
    "print('# of nodes: {}'.format(G.number_of_nodes()))"
   ]
  },
  {
   "cell_type": "code",
   "execution_count": null,
   "metadata": {},
   "outputs": [],
   "source": [
    "import itertools\n",
    "import copy\n",
    "import networkx as nx\n",
    "import pandas as pd\n",
    "import matplotlib.pyplot as plt"
   ]
  },
  {
   "cell_type": "code",
   "execution_count": null,
   "metadata": {},
   "outputs": [],
   "source": [
    "\n",
    "\n",
    "\n",
    "edgelist = fb.copy().drop(columns='scaled_sci')"
   ]
  },
  {
   "cell_type": "code",
   "execution_count": null,
   "metadata": {},
   "outputs": [],
   "source": []
  },
  {
   "cell_type": "code",
   "execution_count": null,
   "metadata": {},
   "outputs": [],
   "source": [
    "plotlist = edgelist.sample(n=2000)\n",
    "\n",
    "g = nx.Graph()\n",
    "\n",
    "for i, elrow in plotlist.iterrows():\n",
    "    g.add_edge(elrow[0], elrow[1], attr_dict=elrow[2:].to_dict())\n"
   ]
  },
  {
   "cell_type": "code",
   "execution_count": null,
   "metadata": {},
   "outputs": [],
   "source": [
    "plotlist"
   ]
  },
  {
   "cell_type": "code",
   "execution_count": null,
   "metadata": {},
   "outputs": [],
   "source": [
    "print(elrow[0]) # node1\n",
    "print(elrow[1]) # node2\n",
    "print(elrow[2:].to_dict()) # edge attribute dict\n"
   ]
  },
  {
   "cell_type": "code",
   "execution_count": null,
   "metadata": {},
   "outputs": [],
   "source": [
    "# add node attributes\n",
    "for i, nlrow in nodelist.iterrows():\n",
    "    try:\n",
    "        g.nodes[nlrow['zips']].update(nlrow[1:].to_dict())\n",
    "    except KeyError:\n",
    "        continue"
   ]
  },
  {
   "cell_type": "code",
   "execution_count": null,
   "metadata": {},
   "outputs": [],
   "source": [
    "# add edges and edge attributes\n",
    "for i, elrow in plotlist.iterrows():\n",
    "    g.add_edge(elrow[0], elrow[1], attr_dict=elrow[2:].to_dict())"
   ]
  },
  {
   "cell_type": "code",
   "execution_count": null,
   "metadata": {},
   "outputs": [],
   "source": [
    "print('# of edges: {}'.format(g.number_of_edges()))\n",
    "print('# of nodes: {}'.format(g.number_of_nodes()))\n",
    "\n",
    "%time"
   ]
  },
  {
   "cell_type": "code",
   "execution_count": null,
   "metadata": {},
   "outputs": [],
   "source": [
    "print('# of edges: {}'.format(g.number_of_edges()))\n",
    "print('# of nodes: {}'.format(g.number_of_nodes()))"
   ]
  },
  {
   "cell_type": "code",
   "execution_count": null,
   "metadata": {},
   "outputs": [],
   "source": [
    "plt.figure(figsize=(15, 12))\n",
    "nx.draw(g, node_size=10)\n",
    "plt.show()\n",
    "\n",
    "%time"
   ]
  },
  {
   "cell_type": "code",
   "execution_count": null,
   "metadata": {},
   "outputs": [],
   "source": [
    "import sys, networkx as nx, matplotlib.pyplot as plt\n",
    "\n",
    "# Create a list of 10 nodes numbered [0, 9]\n",
    "nodes = range(10)\n",
    "node_sizes = []\n",
    "labels = {}\n",
    "for n in nodes:\n",
    "        node_sizes.append( 100 * n )\n",
    "        labels[n] = 100 * n\n",
    "\n",
    "# Node sizes: [0, 100, 200, 300, 400, 500, 600, 700, 800, 900]\n",
    "\n",
    "# Connect each node to its successor\n",
    "edges = [ (i, i+1) for i in range(len(nodes)-1) ]\n",
    "\n",
    "# Create the graph and draw it with the node labels\n",
    "g = nx.Graph()\n",
    "g.add_nodes_from(nodes)\n",
    "g.add_edges_from(edges)\n",
    "\n",
    "nx.draw_random(g, node_size = node_sizes, labels=labels, with_labels=True)    \n",
    "plt.show()"
   ]
  },
  {
   "cell_type": "code",
   "execution_count": null,
   "metadata": {},
   "outputs": [],
   "source": [
    "G = nx.Graph()\n",
    "G.add_edge('31183','48267',color='r',weight=2)\n",
    "G.add_edge('54013','37115',color='g',weight=4)\n",
    "G.add_edge('20201','22099',color='b',weight=6)\n",
    "G.add_edge('39015','72011',color='y',weight=3)\n",
    "G.add_edge('16051','13019',color='m',weight=1)\n",
    "G.add_edge('16051','22099',color='m',weight=1)\n",
    "\n",
    "colors = nx.get_edge_attributes(G,'color').values()\n",
    "weights = nx.get_edge_attributes(G,'weight').values()\n",
    "\n",
    "pos = nx.shell_layout(G)\n",
    "nx.draw(G, pos,\n",
    "        edge_color=colors,\n",
    "        width=list(weights),\n",
    "        with_labels=True,\n",
    "        node_color='lightgreen')"
   ]
  },
  {
   "cell_type": "code",
   "execution_count": null,
   "metadata": {},
   "outputs": [],
   "source": [
    "import networkx as nx\n",
    "\n",
    "G = nx.Graph()\n",
    "G.add_edge(1,2,color='r',weight=2)\n",
    "G.add_edge(2,3,color='b',weight=4)\n",
    "G.add_edge(3,4,color='g',weight=6)\n",
    "\n",
    "pos = nx.circular_layout(G)\n",
    "\n",
    "edges = G.edges()\n",
    "colors = [G[u][v]['color'] for u,v in edges]\n",
    "weights = [G[u][v]['weight'] for u,v in edges]\n",
    "\n",
    "nx.draw(G, pos, edges=edges, edge_color=colors, width=weights)"
   ]
  }
 ],
 "metadata": {
  "kernelspec": {
   "display_name": "Python 3.7.3 64-bit ('base': conda)",
   "language": "python",
   "name": "python37364bitbaseconda97b54b0afe5f4f968b0e6a2edab277da"
  },
  "language_info": {
   "codemirror_mode": {
    "name": "ipython",
    "version": 3
   },
   "file_extension": ".py",
   "mimetype": "text/x-python",
   "name": "python",
   "nbconvert_exporter": "python",
   "pygments_lexer": "ipython3",
   "version": "3.7.7"
  },
  "toc": {
   "base_numbering": 1,
   "nav_menu": {},
   "number_sections": false,
   "sideBar": true,
   "skip_h1_title": false,
   "title_cell": "Table of Contents",
   "title_sidebar": "Contents",
   "toc_cell": false,
   "toc_position": {},
   "toc_section_display": true,
   "toc_window_display": false
  }
 },
 "nbformat": 4,
 "nbformat_minor": 4
}